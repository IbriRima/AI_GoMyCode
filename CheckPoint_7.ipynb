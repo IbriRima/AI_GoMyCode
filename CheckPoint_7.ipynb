{
 "cells": [
  {
   "cell_type": "code",
   "execution_count": 131,
   "metadata": {},
   "outputs": [],
   "source": [
    "import pandas as pd\n",
    "from sklearn.preprocessing import LabelEncoder\n",
    "import matplotlib.pyplot as plt\n",
    "import seaborn as sns\n",
    "from sklearn.preprocessing import StandardScaler\n",
    "from sklearn.model_selection import train_test_split\n",
    "from sklearn import tree   \n",
    "from sklearn.tree import DecisionTreeClassifier\n",
    "from sklearn.metrics import accuracy_score\n",
    "import graphviz\n",
    "from sklearn import datasets\n",
    "import pandas as pd\n",
    "from sklearn.model_selection import train_test_split\n",
    "from sklearn.ensemble import RandomForestClassifier #Importing Random Forest Classifier\n",
    "from sklearn import metrics"
   ]
  },
  {
   "cell_type": "code",
   "execution_count": 132,
   "metadata": {},
   "outputs": [],
   "source": [
    "#conda install python-graphviz"
   ]
  },
  {
   "cell_type": "markdown",
   "metadata": {},
   "source": [
    "# Importing the dataset"
   ]
  },
  {
   "cell_type": "code",
   "execution_count": 133,
   "metadata": {},
   "outputs": [],
   "source": [
    "df=pd.read_csv(\"titanic.csv\",encoding=\"Utf-8\")"
   ]
  },
  {
   "cell_type": "code",
   "execution_count": 134,
   "metadata": {},
   "outputs": [
    {
     "name": "stdout",
     "output_type": "stream",
     "text": [
      "   PassengerId  Survived  Pclass  Sex   Age  SibSp  Parch     Fare  Embarked  \\\n",
      "0          343         0       2    1  28.0      0      0  13.0000         0   \n",
      "1           76         0       3    1  25.0      0      0   7.6500         0   \n",
      "2          641         0       3    1  20.0      0      0   7.8542         0   \n",
      "3          568         0       3    0  29.0      0      4  21.0750         0   \n",
      "4          672         0       1    1  31.0      1      0  52.0000         0   \n",
      "\n",
      "  Title  FamilySize  \n",
      "0   Mrs           0  \n",
      "1   Mrs           0  \n",
      "2   Mrs           0  \n",
      "3   Mrs           4  \n",
      "4   Mrs           1  \n"
     ]
    }
   ],
   "source": [
    "print(df.head())"
   ]
  },
  {
   "cell_type": "markdown",
   "metadata": {},
   "source": [
    "# General Informations"
   ]
  },
  {
   "cell_type": "code",
   "execution_count": 135,
   "metadata": {},
   "outputs": [
    {
     "name": "stdout",
     "output_type": "stream",
     "text": [
      "<class 'pandas.core.frame.DataFrame'>\n",
      "RangeIndex: 891 entries, 0 to 890\n",
      "Data columns (total 11 columns):\n",
      " #   Column       Non-Null Count  Dtype  \n",
      "---  ------       --------------  -----  \n",
      " 0   PassengerId  891 non-null    int64  \n",
      " 1   Survived     891 non-null    int64  \n",
      " 2   Pclass       891 non-null    int64  \n",
      " 3   Sex          891 non-null    int64  \n",
      " 4   Age          891 non-null    float64\n",
      " 5   SibSp        891 non-null    int64  \n",
      " 6   Parch        891 non-null    int64  \n",
      " 7   Fare         891 non-null    float64\n",
      " 8   Embarked     891 non-null    int64  \n",
      " 9   Title        891 non-null    object \n",
      " 10  FamilySize   891 non-null    int64  \n",
      "dtypes: float64(2), int64(8), object(1)\n",
      "memory usage: 76.7+ KB\n",
      "None\n"
     ]
    }
   ],
   "source": [
    "print(df.info())"
   ]
  },
  {
   "cell_type": "markdown",
   "metadata": {},
   "source": [
    "# Preprocessing"
   ]
  },
  {
   "cell_type": "code",
   "execution_count": 136,
   "metadata": {},
   "outputs": [
    {
     "name": "stdout",
     "output_type": "stream",
     "text": [
      "0\n"
     ]
    }
   ],
   "source": [
    "print(df.isnull().sum().sum())"
   ]
  },
  {
   "cell_type": "code",
   "execution_count": 137,
   "metadata": {},
   "outputs": [
    {
     "data": {
      "text/plain": [
       "3    491\n",
       "1    216\n",
       "2    184\n",
       "Name: Pclass, dtype: int64"
      ]
     },
     "execution_count": 137,
     "metadata": {},
     "output_type": "execute_result"
    }
   ],
   "source": [
    "df['Pclass'].value_counts()"
   ]
  },
  {
   "cell_type": "code",
   "execution_count": 138,
   "metadata": {},
   "outputs": [],
   "source": [
    "x=df[[\"PassengerId\",\"Pclass\",\"Sex\",\"Age\",\"SibSp\",\"Parch\",\"Fare\",\"Embarked\",\"FamilySize\"]]\n",
    "y= df[\"Survived\"]\n",
    "x_train,x_test,y_train,y_test=train_test_split(x,y,test_size=0.3,random_state=40) "
   ]
  },
  {
   "cell_type": "code",
   "execution_count": 139,
   "metadata": {},
   "outputs": [
    {
     "name": "stdout",
     "output_type": "stream",
     "text": [
      "score:0.8022388059701493\n"
     ]
    }
   ],
   "source": [
    "dtree = tree.DecisionTreeClassifier(criterion= \"gini\" ,splitter=\"random\",max_leaf_nodes=10,min_samples_leaf =5,max_depth= 5)\n",
    "dtree.fit(x_train, y_train)\n",
    "y_pred=dtree.predict(x_test) \n",
    "print(\"score:{}\".format(accuracy_score(y_test, y_pred)))"
   ]
  },
  {
   "cell_type": "code",
   "execution_count": 140,
   "metadata": {},
   "outputs": [
    {
     "data": {
      "image/svg+xml": [
       "<?xml version=\"1.0\" encoding=\"UTF-8\" standalone=\"no\"?>\r\n",
       "<!DOCTYPE svg PUBLIC \"-//W3C//DTD SVG 1.1//EN\"\r\n",
       " \"http://www.w3.org/Graphics/SVG/1.1/DTD/svg11.dtd\">\r\n",
       "<!-- Generated by graphviz version 2.38.0 (20140413.2041)\r\n",
       " -->\r\n",
       "<!-- Title: Tree Pages: 1 -->\r\n",
       "<svg width=\"759pt\" height=\"477pt\"\r\n",
       " viewBox=\"0.00 0.00 758.50 477.00\" xmlns=\"http://www.w3.org/2000/svg\" xmlns:xlink=\"http://www.w3.org/1999/xlink\">\r\n",
       "<g id=\"graph0\" class=\"graph\" transform=\"scale(1 1) rotate(0) translate(4 473)\">\r\n",
       "<title>Tree</title>\r\n",
       "<polygon fill=\"white\" stroke=\"none\" points=\"-4,4 -4,-473 754.5,-473 754.5,4 -4,4\"/>\r\n",
       "<!-- 0 -->\r\n",
       "<g id=\"node1\" class=\"node\"><title>0</title>\r\n",
       "<polygon fill=\"none\" stroke=\"black\" points=\"375,-469 257,-469 257,-401 375,-401 375,-469\"/>\r\n",
       "<text text-anchor=\"middle\" x=\"316\" y=\"-453.8\" font-family=\"Times New Roman,serif\" font-size=\"14.00\">X[2] &lt;= 0.621</text>\r\n",
       "<text text-anchor=\"middle\" x=\"316\" y=\"-438.8\" font-family=\"Times New Roman,serif\" font-size=\"14.00\">gini = 0.471</text>\r\n",
       "<text text-anchor=\"middle\" x=\"316\" y=\"-423.8\" font-family=\"Times New Roman,serif\" font-size=\"14.00\">samples = 623</text>\r\n",
       "<text text-anchor=\"middle\" x=\"316\" y=\"-408.8\" font-family=\"Times New Roman,serif\" font-size=\"14.00\">value = [387, 236]</text>\r\n",
       "</g>\r\n",
       "<!-- 1 -->\r\n",
       "<g id=\"node2\" class=\"node\"><title>1</title>\r\n",
       "<polygon fill=\"none\" stroke=\"black\" points=\"280.5,-365 169.5,-365 169.5,-297 280.5,-297 280.5,-365\"/>\r\n",
       "<text text-anchor=\"middle\" x=\"225\" y=\"-349.8\" font-family=\"Times New Roman,serif\" font-size=\"14.00\">X[1] &lt;= 2.104</text>\r\n",
       "<text text-anchor=\"middle\" x=\"225\" y=\"-334.8\" font-family=\"Times New Roman,serif\" font-size=\"14.00\">gini = 0.37</text>\r\n",
       "<text text-anchor=\"middle\" x=\"225\" y=\"-319.8\" font-family=\"Times New Roman,serif\" font-size=\"14.00\">samples = 212</text>\r\n",
       "<text text-anchor=\"middle\" x=\"225\" y=\"-304.8\" font-family=\"Times New Roman,serif\" font-size=\"14.00\">value = [52, 160]</text>\r\n",
       "</g>\r\n",
       "<!-- 0&#45;&gt;1 -->\r\n",
       "<g id=\"edge1\" class=\"edge\"><title>0&#45;&gt;1</title>\r\n",
       "<path fill=\"none\" stroke=\"black\" d=\"M286.455,-400.884C278.508,-391.976 269.818,-382.235 261.54,-372.957\"/>\r\n",
       "<polygon fill=\"black\" stroke=\"black\" points=\"263.977,-370.431 254.708,-365.299 258.754,-375.091 263.977,-370.431\"/>\r\n",
       "<text text-anchor=\"middle\" x=\"253.286\" y=\"-386.559\" font-family=\"Times New Roman,serif\" font-size=\"14.00\">True</text>\r\n",
       "</g>\r\n",
       "<!-- 2 -->\r\n",
       "<g id=\"node9\" class=\"node\"><title>2</title>\r\n",
       "<polygon fill=\"none\" stroke=\"black\" points=\"462.5,-365 351.5,-365 351.5,-297 462.5,-297 462.5,-365\"/>\r\n",
       "<text text-anchor=\"middle\" x=\"407\" y=\"-349.8\" font-family=\"Times New Roman,serif\" font-size=\"14.00\">X[1] &lt;= 1.567</text>\r\n",
       "<text text-anchor=\"middle\" x=\"407\" y=\"-334.8\" font-family=\"Times New Roman,serif\" font-size=\"14.00\">gini = 0.301</text>\r\n",
       "<text text-anchor=\"middle\" x=\"407\" y=\"-319.8\" font-family=\"Times New Roman,serif\" font-size=\"14.00\">samples = 411</text>\r\n",
       "<text text-anchor=\"middle\" x=\"407\" y=\"-304.8\" font-family=\"Times New Roman,serif\" font-size=\"14.00\">value = [335, 76]</text>\r\n",
       "</g>\r\n",
       "<!-- 0&#45;&gt;2 -->\r\n",
       "<g id=\"edge8\" class=\"edge\"><title>0&#45;&gt;2</title>\r\n",
       "<path fill=\"none\" stroke=\"black\" d=\"M345.545,-400.884C353.492,-391.976 362.182,-382.235 370.46,-372.957\"/>\r\n",
       "<polygon fill=\"black\" stroke=\"black\" points=\"373.246,-375.091 377.292,-365.299 368.023,-370.431 373.246,-375.091\"/>\r\n",
       "<text text-anchor=\"middle\" x=\"378.714\" y=\"-386.559\" font-family=\"Times New Roman,serif\" font-size=\"14.00\">False</text>\r\n",
       "</g>\r\n",
       "<!-- 3 -->\r\n",
       "<g id=\"node3\" class=\"node\"><title>3</title>\r\n",
       "<polygon fill=\"none\" stroke=\"black\" points=\"155,-253.5 51,-253.5 51,-200.5 155,-200.5 155,-253.5\"/>\r\n",
       "<text text-anchor=\"middle\" x=\"103\" y=\"-238.3\" font-family=\"Times New Roman,serif\" font-size=\"14.00\">gini = 0.081</text>\r\n",
       "<text text-anchor=\"middle\" x=\"103\" y=\"-223.3\" font-family=\"Times New Roman,serif\" font-size=\"14.00\">samples = 119</text>\r\n",
       "<text text-anchor=\"middle\" x=\"103\" y=\"-208.3\" font-family=\"Times New Roman,serif\" font-size=\"14.00\">value = [5, 114]</text>\r\n",
       "</g>\r\n",
       "<!-- 1&#45;&gt;3 -->\r\n",
       "<g id=\"edge2\" class=\"edge\"><title>1&#45;&gt;3</title>\r\n",
       "<path fill=\"none\" stroke=\"black\" d=\"M185.39,-296.884C171.315,-285.116 155.5,-271.894 141.518,-260.203\"/>\r\n",
       "<polygon fill=\"black\" stroke=\"black\" points=\"143.441,-257.249 133.524,-253.52 138.951,-262.619 143.441,-257.249\"/>\r\n",
       "</g>\r\n",
       "<!-- 4 -->\r\n",
       "<g id=\"node4\" class=\"node\"><title>4</title>\r\n",
       "<polygon fill=\"none\" stroke=\"black\" points=\"277,-261 173,-261 173,-193 277,-193 277,-261\"/>\r\n",
       "<text text-anchor=\"middle\" x=\"225\" y=\"-245.8\" font-family=\"Times New Roman,serif\" font-size=\"14.00\">X[7] &lt;= 1.166</text>\r\n",
       "<text text-anchor=\"middle\" x=\"225\" y=\"-230.8\" font-family=\"Times New Roman,serif\" font-size=\"14.00\">gini = 0.5</text>\r\n",
       "<text text-anchor=\"middle\" x=\"225\" y=\"-215.8\" font-family=\"Times New Roman,serif\" font-size=\"14.00\">samples = 93</text>\r\n",
       "<text text-anchor=\"middle\" x=\"225\" y=\"-200.8\" font-family=\"Times New Roman,serif\" font-size=\"14.00\">value = [47, 46]</text>\r\n",
       "</g>\r\n",
       "<!-- 1&#45;&gt;4 -->\r\n",
       "<g id=\"edge3\" class=\"edge\"><title>1&#45;&gt;4</title>\r\n",
       "<path fill=\"none\" stroke=\"black\" d=\"M225,-296.884C225,-288.778 225,-279.982 225,-271.472\"/>\r\n",
       "<polygon fill=\"black\" stroke=\"black\" points=\"228.5,-271.299 225,-261.299 221.5,-271.299 228.5,-271.299\"/>\r\n",
       "</g>\r\n",
       "<!-- 7 -->\r\n",
       "<g id=\"node5\" class=\"node\"><title>7</title>\r\n",
       "<polygon fill=\"none\" stroke=\"black\" points=\"158,-157 54,-157 54,-89 158,-89 158,-157\"/>\r\n",
       "<text text-anchor=\"middle\" x=\"106\" y=\"-141.8\" font-family=\"Times New Roman,serif\" font-size=\"14.00\">X[7] &lt;= 0.47</text>\r\n",
       "<text text-anchor=\"middle\" x=\"106\" y=\"-126.8\" font-family=\"Times New Roman,serif\" font-size=\"14.00\">gini = 0.491</text>\r\n",
       "<text text-anchor=\"middle\" x=\"106\" y=\"-111.8\" font-family=\"Times New Roman,serif\" font-size=\"14.00\">samples = 74</text>\r\n",
       "<text text-anchor=\"middle\" x=\"106\" y=\"-96.8\" font-family=\"Times New Roman,serif\" font-size=\"14.00\">value = [42, 32]</text>\r\n",
       "</g>\r\n",
       "<!-- 4&#45;&gt;7 -->\r\n",
       "<g id=\"edge4\" class=\"edge\"><title>4&#45;&gt;7</title>\r\n",
       "<path fill=\"none\" stroke=\"black\" d=\"M186.364,-192.884C175.556,-183.62 163.697,-173.455 152.486,-163.845\"/>\r\n",
       "<polygon fill=\"black\" stroke=\"black\" points=\"154.72,-161.15 144.849,-157.299 150.164,-166.465 154.72,-161.15\"/>\r\n",
       "</g>\r\n",
       "<!-- 8 -->\r\n",
       "<g id=\"node8\" class=\"node\"><title>8</title>\r\n",
       "<polygon fill=\"none\" stroke=\"black\" points=\"274,-149.5 176,-149.5 176,-96.5 274,-96.5 274,-149.5\"/>\r\n",
       "<text text-anchor=\"middle\" x=\"225\" y=\"-134.3\" font-family=\"Times New Roman,serif\" font-size=\"14.00\">gini = 0.388</text>\r\n",
       "<text text-anchor=\"middle\" x=\"225\" y=\"-119.3\" font-family=\"Times New Roman,serif\" font-size=\"14.00\">samples = 19</text>\r\n",
       "<text text-anchor=\"middle\" x=\"225\" y=\"-104.3\" font-family=\"Times New Roman,serif\" font-size=\"14.00\">value = [5, 14]</text>\r\n",
       "</g>\r\n",
       "<!-- 4&#45;&gt;8 -->\r\n",
       "<g id=\"edge7\" class=\"edge\"><title>4&#45;&gt;8</title>\r\n",
       "<path fill=\"none\" stroke=\"black\" d=\"M225,-192.884C225,-182.326 225,-170.597 225,-159.854\"/>\r\n",
       "<polygon fill=\"black\" stroke=\"black\" points=\"228.5,-159.52 225,-149.52 221.5,-159.52 228.5,-159.52\"/>\r\n",
       "</g>\r\n",
       "<!-- 13 -->\r\n",
       "<g id=\"node6\" class=\"node\"><title>13</title>\r\n",
       "<polygon fill=\"none\" stroke=\"black\" points=\"104,-53 0,-53 0,-0 104,-0 104,-53\"/>\r\n",
       "<text text-anchor=\"middle\" x=\"52\" y=\"-37.8\" font-family=\"Times New Roman,serif\" font-size=\"14.00\">gini = 0.474</text>\r\n",
       "<text text-anchor=\"middle\" x=\"52\" y=\"-22.8\" font-family=\"Times New Roman,serif\" font-size=\"14.00\">samples = 57</text>\r\n",
       "<text text-anchor=\"middle\" x=\"52\" y=\"-7.8\" font-family=\"Times New Roman,serif\" font-size=\"14.00\">value = [35, 22]</text>\r\n",
       "</g>\r\n",
       "<!-- 7&#45;&gt;13 -->\r\n",
       "<g id=\"edge5\" class=\"edge\"><title>7&#45;&gt;13</title>\r\n",
       "<path fill=\"none\" stroke=\"black\" d=\"M87.1134,-88.9485C82.1474,-80.2579 76.7776,-70.8608 71.7667,-62.0917\"/>\r\n",
       "<polygon fill=\"black\" stroke=\"black\" points=\"74.707,-60.1826 66.7067,-53.2367 68.6293,-63.6557 74.707,-60.1826\"/>\r\n",
       "</g>\r\n",
       "<!-- 14 -->\r\n",
       "<g id=\"node7\" class=\"node\"><title>14</title>\r\n",
       "<polygon fill=\"none\" stroke=\"black\" points=\"220,-53 122,-53 122,-0 220,-0 220,-53\"/>\r\n",
       "<text text-anchor=\"middle\" x=\"171\" y=\"-37.8\" font-family=\"Times New Roman,serif\" font-size=\"14.00\">gini = 0.484</text>\r\n",
       "<text text-anchor=\"middle\" x=\"171\" y=\"-22.8\" font-family=\"Times New Roman,serif\" font-size=\"14.00\">samples = 17</text>\r\n",
       "<text text-anchor=\"middle\" x=\"171\" y=\"-7.8\" font-family=\"Times New Roman,serif\" font-size=\"14.00\">value = [7, 10]</text>\r\n",
       "</g>\r\n",
       "<!-- 7&#45;&gt;14 -->\r\n",
       "<g id=\"edge6\" class=\"edge\"><title>7&#45;&gt;14</title>\r\n",
       "<path fill=\"none\" stroke=\"black\" d=\"M128.734,-88.9485C134.837,-80.0749 141.447,-70.4648 147.587,-61.5388\"/>\r\n",
       "<polygon fill=\"black\" stroke=\"black\" points=\"150.514,-63.4594 153.298,-53.2367 144.747,-59.4924 150.514,-63.4594\"/>\r\n",
       "</g>\r\n",
       "<!-- 5 -->\r\n",
       "<g id=\"node10\" class=\"node\"><title>5</title>\r\n",
       "<polygon fill=\"none\" stroke=\"black\" points=\"459,-261 355,-261 355,-193 459,-193 459,-261\"/>\r\n",
       "<text text-anchor=\"middle\" x=\"407\" y=\"-245.8\" font-family=\"Times New Roman,serif\" font-size=\"14.00\">X[3] &lt;= 56.498</text>\r\n",
       "<text text-anchor=\"middle\" x=\"407\" y=\"-230.8\" font-family=\"Times New Roman,serif\" font-size=\"14.00\">gini = 0.437</text>\r\n",
       "<text text-anchor=\"middle\" x=\"407\" y=\"-215.8\" font-family=\"Times New Roman,serif\" font-size=\"14.00\">samples = 90</text>\r\n",
       "<text text-anchor=\"middle\" x=\"407\" y=\"-200.8\" font-family=\"Times New Roman,serif\" font-size=\"14.00\">value = [61, 29]</text>\r\n",
       "</g>\r\n",
       "<!-- 2&#45;&gt;5 -->\r\n",
       "<g id=\"edge9\" class=\"edge\"><title>2&#45;&gt;5</title>\r\n",
       "<path fill=\"none\" stroke=\"black\" d=\"M407,-296.884C407,-288.778 407,-279.982 407,-271.472\"/>\r\n",
       "<polygon fill=\"black\" stroke=\"black\" points=\"410.5,-271.299 407,-261.299 403.5,-271.299 410.5,-271.299\"/>\r\n",
       "</g>\r\n",
       "<!-- 6 -->\r\n",
       "<g id=\"node15\" class=\"node\"><title>6</title>\r\n",
       "<polygon fill=\"none\" stroke=\"black\" points=\"641.5,-261 530.5,-261 530.5,-193 641.5,-193 641.5,-261\"/>\r\n",
       "<text text-anchor=\"middle\" x=\"586\" y=\"-245.8\" font-family=\"Times New Roman,serif\" font-size=\"14.00\">X[6] &lt;= 48.682</text>\r\n",
       "<text text-anchor=\"middle\" x=\"586\" y=\"-230.8\" font-family=\"Times New Roman,serif\" font-size=\"14.00\">gini = 0.25</text>\r\n",
       "<text text-anchor=\"middle\" x=\"586\" y=\"-215.8\" font-family=\"Times New Roman,serif\" font-size=\"14.00\">samples = 321</text>\r\n",
       "<text text-anchor=\"middle\" x=\"586\" y=\"-200.8\" font-family=\"Times New Roman,serif\" font-size=\"14.00\">value = [274, 47]</text>\r\n",
       "</g>\r\n",
       "<!-- 2&#45;&gt;6 -->\r\n",
       "<g id=\"edge14\" class=\"edge\"><title>2&#45;&gt;6</title>\r\n",
       "<path fill=\"none\" stroke=\"black\" d=\"M462.656,-298.286C481.345,-287.636 502.344,-275.67 521.645,-264.672\"/>\r\n",
       "<polygon fill=\"black\" stroke=\"black\" points=\"523.423,-267.687 530.379,-259.695 519.958,-261.605 523.423,-267.687\"/>\r\n",
       "</g>\r\n",
       "<!-- 9 -->\r\n",
       "<g id=\"node11\" class=\"node\"><title>9</title>\r\n",
       "<polygon fill=\"none\" stroke=\"black\" points=\"396,-157 292,-157 292,-89 396,-89 396,-157\"/>\r\n",
       "<text text-anchor=\"middle\" x=\"344\" y=\"-141.8\" font-family=\"Times New Roman,serif\" font-size=\"14.00\">X[0] &lt;= 405.63</text>\r\n",
       "<text text-anchor=\"middle\" x=\"344\" y=\"-126.8\" font-family=\"Times New Roman,serif\" font-size=\"14.00\">gini = 0.462</text>\r\n",
       "<text text-anchor=\"middle\" x=\"344\" y=\"-111.8\" font-family=\"Times New Roman,serif\" font-size=\"14.00\">samples = 80</text>\r\n",
       "<text text-anchor=\"middle\" x=\"344\" y=\"-96.8\" font-family=\"Times New Roman,serif\" font-size=\"14.00\">value = [51, 29]</text>\r\n",
       "</g>\r\n",
       "<!-- 5&#45;&gt;9 -->\r\n",
       "<g id=\"edge10\" class=\"edge\"><title>5&#45;&gt;9</title>\r\n",
       "<path fill=\"none\" stroke=\"black\" d=\"M386.546,-192.884C381.264,-184.332 375.508,-175.013 369.986,-166.072\"/>\r\n",
       "<polygon fill=\"black\" stroke=\"black\" points=\"372.8,-163.968 364.567,-157.299 366.844,-167.647 372.8,-163.968\"/>\r\n",
       "</g>\r\n",
       "<!-- 10 -->\r\n",
       "<g id=\"node14\" class=\"node\"><title>10</title>\r\n",
       "<polygon fill=\"none\" stroke=\"black\" points=\"512,-149.5 414,-149.5 414,-96.5 512,-96.5 512,-149.5\"/>\r\n",
       "<text text-anchor=\"middle\" x=\"463\" y=\"-134.3\" font-family=\"Times New Roman,serif\" font-size=\"14.00\">gini = 0.0</text>\r\n",
       "<text text-anchor=\"middle\" x=\"463\" y=\"-119.3\" font-family=\"Times New Roman,serif\" font-size=\"14.00\">samples = 10</text>\r\n",
       "<text text-anchor=\"middle\" x=\"463\" y=\"-104.3\" font-family=\"Times New Roman,serif\" font-size=\"14.00\">value = [10, 0]</text>\r\n",
       "</g>\r\n",
       "<!-- 5&#45;&gt;10 -->\r\n",
       "<g id=\"edge13\" class=\"edge\"><title>5&#45;&gt;10</title>\r\n",
       "<path fill=\"none\" stroke=\"black\" d=\"M425.182,-192.884C431.22,-181.886 437.955,-169.617 444.05,-158.517\"/>\r\n",
       "<polygon fill=\"black\" stroke=\"black\" points=\"447.244,-159.97 448.989,-149.52 441.108,-156.601 447.244,-159.97\"/>\r\n",
       "</g>\r\n",
       "<!-- 11 -->\r\n",
       "<g id=\"node12\" class=\"node\"><title>11</title>\r\n",
       "<polygon fill=\"none\" stroke=\"black\" points=\"364,-53 266,-53 266,-0 364,-0 364,-53\"/>\r\n",
       "<text text-anchor=\"middle\" x=\"315\" y=\"-37.8\" font-family=\"Times New Roman,serif\" font-size=\"14.00\">gini = 0.361</text>\r\n",
       "<text text-anchor=\"middle\" x=\"315\" y=\"-22.8\" font-family=\"Times New Roman,serif\" font-size=\"14.00\">samples = 38</text>\r\n",
       "<text text-anchor=\"middle\" x=\"315\" y=\"-7.8\" font-family=\"Times New Roman,serif\" font-size=\"14.00\">value = [29, 9]</text>\r\n",
       "</g>\r\n",
       "<!-- 9&#45;&gt;11 -->\r\n",
       "<g id=\"edge11\" class=\"edge\"><title>9&#45;&gt;11</title>\r\n",
       "<path fill=\"none\" stroke=\"black\" d=\"M333.857,-88.9485C331.274,-80.5323 328.488,-71.4536 325.871,-62.9243\"/>\r\n",
       "<polygon fill=\"black\" stroke=\"black\" points=\"329.178,-61.7698 322.898,-53.2367 322.486,-63.8235 329.178,-61.7698\"/>\r\n",
       "</g>\r\n",
       "<!-- 12 -->\r\n",
       "<g id=\"node13\" class=\"node\"><title>12</title>\r\n",
       "<polygon fill=\"none\" stroke=\"black\" points=\"486,-53 382,-53 382,-0 486,-0 486,-53\"/>\r\n",
       "<text text-anchor=\"middle\" x=\"434\" y=\"-37.8\" font-family=\"Times New Roman,serif\" font-size=\"14.00\">gini = 0.499</text>\r\n",
       "<text text-anchor=\"middle\" x=\"434\" y=\"-22.8\" font-family=\"Times New Roman,serif\" font-size=\"14.00\">samples = 42</text>\r\n",
       "<text text-anchor=\"middle\" x=\"434\" y=\"-7.8\" font-family=\"Times New Roman,serif\" font-size=\"14.00\">value = [22, 20]</text>\r\n",
       "</g>\r\n",
       "<!-- 9&#45;&gt;12 -->\r\n",
       "<g id=\"edge12\" class=\"edge\"><title>9&#45;&gt;12</title>\r\n",
       "<path fill=\"none\" stroke=\"black\" d=\"M375.478,-88.9485C384.19,-79.8005 393.648,-69.8697 402.369,-60.7126\"/>\r\n",
       "<polygon fill=\"black\" stroke=\"black\" points=\"405.127,-62.8919 409.489,-53.2367 400.058,-58.0643 405.127,-62.8919\"/>\r\n",
       "</g>\r\n",
       "<!-- 15 -->\r\n",
       "<g id=\"node16\" class=\"node\"><title>15</title>\r\n",
       "<polygon fill=\"none\" stroke=\"black\" points=\"641.5,-157 530.5,-157 530.5,-89 641.5,-89 641.5,-157\"/>\r\n",
       "<text text-anchor=\"middle\" x=\"586\" y=\"-141.8\" font-family=\"Times New Roman,serif\" font-size=\"14.00\">X[3] &lt;= 9.022</text>\r\n",
       "<text text-anchor=\"middle\" x=\"586\" y=\"-126.8\" font-family=\"Times New Roman,serif\" font-size=\"14.00\">gini = 0.242</text>\r\n",
       "<text text-anchor=\"middle\" x=\"586\" y=\"-111.8\" font-family=\"Times New Roman,serif\" font-size=\"14.00\">samples = 312</text>\r\n",
       "<text text-anchor=\"middle\" x=\"586\" y=\"-96.8\" font-family=\"Times New Roman,serif\" font-size=\"14.00\">value = [268, 44]</text>\r\n",
       "</g>\r\n",
       "<!-- 6&#45;&gt;15 -->\r\n",
       "<g id=\"edge15\" class=\"edge\"><title>6&#45;&gt;15</title>\r\n",
       "<path fill=\"none\" stroke=\"black\" d=\"M586,-192.884C586,-184.778 586,-175.982 586,-167.472\"/>\r\n",
       "<polygon fill=\"black\" stroke=\"black\" points=\"589.5,-167.299 586,-157.299 582.5,-167.299 589.5,-167.299\"/>\r\n",
       "</g>\r\n",
       "<!-- 16 -->\r\n",
       "<g id=\"node19\" class=\"node\"><title>16</title>\r\n",
       "<polygon fill=\"none\" stroke=\"black\" points=\"750.5,-149.5 659.5,-149.5 659.5,-96.5 750.5,-96.5 750.5,-149.5\"/>\r\n",
       "<text text-anchor=\"middle\" x=\"705\" y=\"-134.3\" font-family=\"Times New Roman,serif\" font-size=\"14.00\">gini = 0.444</text>\r\n",
       "<text text-anchor=\"middle\" x=\"705\" y=\"-119.3\" font-family=\"Times New Roman,serif\" font-size=\"14.00\">samples = 9</text>\r\n",
       "<text text-anchor=\"middle\" x=\"705\" y=\"-104.3\" font-family=\"Times New Roman,serif\" font-size=\"14.00\">value = [6, 3]</text>\r\n",
       "</g>\r\n",
       "<!-- 6&#45;&gt;16 -->\r\n",
       "<g id=\"edge18\" class=\"edge\"><title>6&#45;&gt;16</title>\r\n",
       "<path fill=\"none\" stroke=\"black\" d=\"M624.636,-192.884C638.365,-181.116 653.791,-167.894 667.429,-156.203\"/>\r\n",
       "<polygon fill=\"black\" stroke=\"black\" points=\"669.912,-158.685 675.227,-149.52 665.356,-153.37 669.912,-158.685\"/>\r\n",
       "</g>\r\n",
       "<!-- 17 -->\r\n",
       "<g id=\"node17\" class=\"node\"><title>17</title>\r\n",
       "<polygon fill=\"none\" stroke=\"black\" points=\"613.5,-53 522.5,-53 522.5,-0 613.5,-0 613.5,-53\"/>\r\n",
       "<text text-anchor=\"middle\" x=\"568\" y=\"-37.8\" font-family=\"Times New Roman,serif\" font-size=\"14.00\">gini = 0.5</text>\r\n",
       "<text text-anchor=\"middle\" x=\"568\" y=\"-22.8\" font-family=\"Times New Roman,serif\" font-size=\"14.00\">samples = 18</text>\r\n",
       "<text text-anchor=\"middle\" x=\"568\" y=\"-7.8\" font-family=\"Times New Roman,serif\" font-size=\"14.00\">value = [9, 9]</text>\r\n",
       "</g>\r\n",
       "<!-- 15&#45;&gt;17 -->\r\n",
       "<g id=\"edge16\" class=\"edge\"><title>15&#45;&gt;17</title>\r\n",
       "<path fill=\"none\" stroke=\"black\" d=\"M579.704,-88.9485C578.119,-80.6238 576.41,-71.6509 574.801,-63.2027\"/>\r\n",
       "<polygon fill=\"black\" stroke=\"black\" points=\"578.212,-62.4052 572.902,-53.2367 571.335,-63.715 578.212,-62.4052\"/>\r\n",
       "</g>\r\n",
       "<!-- 18 -->\r\n",
       "<g id=\"node18\" class=\"node\"><title>18</title>\r\n",
       "<polygon fill=\"none\" stroke=\"black\" points=\"742.5,-53 631.5,-53 631.5,-0 742.5,-0 742.5,-53\"/>\r\n",
       "<text text-anchor=\"middle\" x=\"687\" y=\"-37.8\" font-family=\"Times New Roman,serif\" font-size=\"14.00\">gini = 0.21</text>\r\n",
       "<text text-anchor=\"middle\" x=\"687\" y=\"-22.8\" font-family=\"Times New Roman,serif\" font-size=\"14.00\">samples = 294</text>\r\n",
       "<text text-anchor=\"middle\" x=\"687\" y=\"-7.8\" font-family=\"Times New Roman,serif\" font-size=\"14.00\">value = [259, 35]</text>\r\n",
       "</g>\r\n",
       "<!-- 15&#45;&gt;18 -->\r\n",
       "<g id=\"edge17\" class=\"edge\"><title>15&#45;&gt;18</title>\r\n",
       "<path fill=\"none\" stroke=\"black\" d=\"M621.325,-88.9485C631.298,-79.6175 642.141,-69.4722 652.089,-60.1641\"/>\r\n",
       "<polygon fill=\"black\" stroke=\"black\" points=\"654.582,-62.6247 659.493,-53.2367 649.8,-57.5132 654.582,-62.6247\"/>\r\n",
       "</g>\r\n",
       "</g>\r\n",
       "</svg>\r\n"
      ],
      "text/plain": [
       "<graphviz.files.Source at 0x12c302529a0>"
      ]
     },
     "execution_count": 140,
     "metadata": {},
     "output_type": "execute_result"
    }
   ],
   "source": [
    "dot_data=tree.export_graphviz(dtree , out_file=None)\n",
    "graph=graphviz.Source(dot_data)\n",
    "graph.render(\"data\")\n",
    "graph"
   ]
  },
  {
   "cell_type": "code",
   "execution_count": 141,
   "metadata": {},
   "outputs": [
    {
     "name": "stdout",
     "output_type": "stream",
     "text": [
      "score:0.8022388059701493\n"
     ]
    }
   ],
   "source": [
    "dtree = tree.DecisionTreeClassifier(criterion= \"gini\" ,splitter=\"random\",max_leaf_nodes=5,min_samples_leaf =3,max_depth= 5)\n",
    "dtree.fit(x_train, y_train)\n",
    "y_pred=dtree.predict(x_test) \n",
    "print(\"score:{}\".format(accuracy_score(y_test, y_pred)))"
   ]
  },
  {
   "cell_type": "code",
   "execution_count": 142,
   "metadata": {},
   "outputs": [
    {
     "data": {
      "image/svg+xml": [
       "<?xml version=\"1.0\" encoding=\"UTF-8\" standalone=\"no\"?>\r\n",
       "<!DOCTYPE svg PUBLIC \"-//W3C//DTD SVG 1.1//EN\"\r\n",
       " \"http://www.w3.org/Graphics/SVG/1.1/DTD/svg11.dtd\">\r\n",
       "<!-- Generated by graphviz version 2.38.0 (20140413.2041)\r\n",
       " -->\r\n",
       "<!-- Title: Tree Pages: 1 -->\r\n",
       "<svg width=\"489pt\" height=\"373pt\"\r\n",
       " viewBox=\"0.00 0.00 488.50 373.00\" xmlns=\"http://www.w3.org/2000/svg\" xmlns:xlink=\"http://www.w3.org/1999/xlink\">\r\n",
       "<g id=\"graph0\" class=\"graph\" transform=\"scale(1 1) rotate(0) translate(4 369)\">\r\n",
       "<title>Tree</title>\r\n",
       "<polygon fill=\"white\" stroke=\"none\" points=\"-4,4 -4,-369 484.5,-369 484.5,4 -4,4\"/>\r\n",
       "<!-- 0 -->\r\n",
       "<g id=\"node1\" class=\"node\"><title>0</title>\r\n",
       "<polygon fill=\"none\" stroke=\"black\" points=\"295,-365 177,-365 177,-297 295,-297 295,-365\"/>\r\n",
       "<text text-anchor=\"middle\" x=\"236\" y=\"-349.8\" font-family=\"Times New Roman,serif\" font-size=\"14.00\">X[2] &lt;= 0.598</text>\r\n",
       "<text text-anchor=\"middle\" x=\"236\" y=\"-334.8\" font-family=\"Times New Roman,serif\" font-size=\"14.00\">gini = 0.471</text>\r\n",
       "<text text-anchor=\"middle\" x=\"236\" y=\"-319.8\" font-family=\"Times New Roman,serif\" font-size=\"14.00\">samples = 623</text>\r\n",
       "<text text-anchor=\"middle\" x=\"236\" y=\"-304.8\" font-family=\"Times New Roman,serif\" font-size=\"14.00\">value = [387, 236]</text>\r\n",
       "</g>\r\n",
       "<!-- 1 -->\r\n",
       "<g id=\"node2\" class=\"node\"><title>1</title>\r\n",
       "<polygon fill=\"none\" stroke=\"black\" points=\"227.5,-261 116.5,-261 116.5,-193 227.5,-193 227.5,-261\"/>\r\n",
       "<text text-anchor=\"middle\" x=\"172\" y=\"-245.8\" font-family=\"Times New Roman,serif\" font-size=\"14.00\">X[1] &lt;= 2.532</text>\r\n",
       "<text text-anchor=\"middle\" x=\"172\" y=\"-230.8\" font-family=\"Times New Roman,serif\" font-size=\"14.00\">gini = 0.37</text>\r\n",
       "<text text-anchor=\"middle\" x=\"172\" y=\"-215.8\" font-family=\"Times New Roman,serif\" font-size=\"14.00\">samples = 212</text>\r\n",
       "<text text-anchor=\"middle\" x=\"172\" y=\"-200.8\" font-family=\"Times New Roman,serif\" font-size=\"14.00\">value = [52, 160]</text>\r\n",
       "</g>\r\n",
       "<!-- 0&#45;&gt;1 -->\r\n",
       "<g id=\"edge1\" class=\"edge\"><title>0&#45;&gt;1</title>\r\n",
       "<path fill=\"none\" stroke=\"black\" d=\"M215.221,-296.884C209.8,-288.243 203.887,-278.819 198.223,-269.793\"/>\r\n",
       "<polygon fill=\"black\" stroke=\"black\" points=\"201.173,-267.91 192.894,-261.299 195.244,-271.63 201.173,-267.91\"/>\r\n",
       "<text text-anchor=\"middle\" x=\"187.315\" y=\"-281.969\" font-family=\"Times New Roman,serif\" font-size=\"14.00\">True</text>\r\n",
       "</g>\r\n",
       "<!-- 2 -->\r\n",
       "<g id=\"node7\" class=\"node\"><title>2</title>\r\n",
       "<polygon fill=\"none\" stroke=\"black\" points=\"356.5,-261 245.5,-261 245.5,-193 356.5,-193 356.5,-261\"/>\r\n",
       "<text text-anchor=\"middle\" x=\"301\" y=\"-245.8\" font-family=\"Times New Roman,serif\" font-size=\"14.00\">X[1] &lt;= 1.931</text>\r\n",
       "<text text-anchor=\"middle\" x=\"301\" y=\"-230.8\" font-family=\"Times New Roman,serif\" font-size=\"14.00\">gini = 0.301</text>\r\n",
       "<text text-anchor=\"middle\" x=\"301\" y=\"-215.8\" font-family=\"Times New Roman,serif\" font-size=\"14.00\">samples = 411</text>\r\n",
       "<text text-anchor=\"middle\" x=\"301\" y=\"-200.8\" font-family=\"Times New Roman,serif\" font-size=\"14.00\">value = [335, 76]</text>\r\n",
       "</g>\r\n",
       "<!-- 0&#45;&gt;2 -->\r\n",
       "<g id=\"edge6\" class=\"edge\"><title>0&#45;&gt;2</title>\r\n",
       "<path fill=\"none\" stroke=\"black\" d=\"M257.104,-296.884C262.61,-288.243 268.615,-278.819 274.367,-269.793\"/>\r\n",
       "<polygon fill=\"black\" stroke=\"black\" points=\"277.357,-271.614 279.78,-261.299 271.454,-267.852 277.357,-271.614\"/>\r\n",
       "<text text-anchor=\"middle\" x=\"285.188\" y=\"-282.007\" font-family=\"Times New Roman,serif\" font-size=\"14.00\">False</text>\r\n",
       "</g>\r\n",
       "<!-- 3 -->\r\n",
       "<g id=\"node3\" class=\"node\"><title>3</title>\r\n",
       "<polygon fill=\"none\" stroke=\"black\" points=\"104,-149.5 0,-149.5 0,-96.5 104,-96.5 104,-149.5\"/>\r\n",
       "<text text-anchor=\"middle\" x=\"52\" y=\"-134.3\" font-family=\"Times New Roman,serif\" font-size=\"14.00\">gini = 0.081</text>\r\n",
       "<text text-anchor=\"middle\" x=\"52\" y=\"-119.3\" font-family=\"Times New Roman,serif\" font-size=\"14.00\">samples = 119</text>\r\n",
       "<text text-anchor=\"middle\" x=\"52\" y=\"-104.3\" font-family=\"Times New Roman,serif\" font-size=\"14.00\">value = [5, 114]</text>\r\n",
       "</g>\r\n",
       "<!-- 1&#45;&gt;3 -->\r\n",
       "<g id=\"edge2\" class=\"edge\"><title>1&#45;&gt;3</title>\r\n",
       "<path fill=\"none\" stroke=\"black\" d=\"M133.039,-192.884C119.195,-181.116 103.64,-167.894 89.8863,-156.203\"/>\r\n",
       "<polygon fill=\"black\" stroke=\"black\" points=\"91.9096,-153.33 82.0234,-149.52 87.3761,-158.663 91.9096,-153.33\"/>\r\n",
       "</g>\r\n",
       "<!-- 4 -->\r\n",
       "<g id=\"node4\" class=\"node\"><title>4</title>\r\n",
       "<polygon fill=\"none\" stroke=\"black\" points=\"226,-157 122,-157 122,-89 226,-89 226,-157\"/>\r\n",
       "<text text-anchor=\"middle\" x=\"174\" y=\"-141.8\" font-family=\"Times New Roman,serif\" font-size=\"14.00\">X[7] &lt;= 0.192</text>\r\n",
       "<text text-anchor=\"middle\" x=\"174\" y=\"-126.8\" font-family=\"Times New Roman,serif\" font-size=\"14.00\">gini = 0.5</text>\r\n",
       "<text text-anchor=\"middle\" x=\"174\" y=\"-111.8\" font-family=\"Times New Roman,serif\" font-size=\"14.00\">samples = 93</text>\r\n",
       "<text text-anchor=\"middle\" x=\"174\" y=\"-96.8\" font-family=\"Times New Roman,serif\" font-size=\"14.00\">value = [47, 46]</text>\r\n",
       "</g>\r\n",
       "<!-- 1&#45;&gt;4 -->\r\n",
       "<g id=\"edge3\" class=\"edge\"><title>1&#45;&gt;4</title>\r\n",
       "<path fill=\"none\" stroke=\"black\" d=\"M172.649,-192.884C172.808,-184.778 172.981,-175.982 173.148,-167.472\"/>\r\n",
       "<polygon fill=\"black\" stroke=\"black\" points=\"176.65,-167.366 173.347,-157.299 169.652,-167.229 176.65,-167.366\"/>\r\n",
       "</g>\r\n",
       "<!-- 7 -->\r\n",
       "<g id=\"node5\" class=\"node\"><title>7</title>\r\n",
       "<polygon fill=\"none\" stroke=\"black\" points=\"165,-53 61,-53 61,-0 165,-0 165,-53\"/>\r\n",
       "<text text-anchor=\"middle\" x=\"113\" y=\"-37.8\" font-family=\"Times New Roman,serif\" font-size=\"14.00\">gini = 0.474</text>\r\n",
       "<text text-anchor=\"middle\" x=\"113\" y=\"-22.8\" font-family=\"Times New Roman,serif\" font-size=\"14.00\">samples = 57</text>\r\n",
       "<text text-anchor=\"middle\" x=\"113\" y=\"-7.8\" font-family=\"Times New Roman,serif\" font-size=\"14.00\">value = [35, 22]</text>\r\n",
       "</g>\r\n",
       "<!-- 4&#45;&gt;7 -->\r\n",
       "<g id=\"edge4\" class=\"edge\"><title>4&#45;&gt;7</title>\r\n",
       "<path fill=\"none\" stroke=\"black\" d=\"M152.665,-88.9485C146.996,-80.1664 140.862,-70.6629 135.15,-61.815\"/>\r\n",
       "<polygon fill=\"black\" stroke=\"black\" points=\"137.977,-59.7402 129.613,-53.2367 132.096,-63.5365 137.977,-59.7402\"/>\r\n",
       "</g>\r\n",
       "<!-- 8 -->\r\n",
       "<g id=\"node6\" class=\"node\"><title>8</title>\r\n",
       "<polygon fill=\"none\" stroke=\"black\" points=\"287,-53 183,-53 183,-0 287,-0 287,-53\"/>\r\n",
       "<text text-anchor=\"middle\" x=\"235\" y=\"-37.8\" font-family=\"Times New Roman,serif\" font-size=\"14.00\">gini = 0.444</text>\r\n",
       "<text text-anchor=\"middle\" x=\"235\" y=\"-22.8\" font-family=\"Times New Roman,serif\" font-size=\"14.00\">samples = 36</text>\r\n",
       "<text text-anchor=\"middle\" x=\"235\" y=\"-7.8\" font-family=\"Times New Roman,serif\" font-size=\"14.00\">value = [12, 24]</text>\r\n",
       "</g>\r\n",
       "<!-- 4&#45;&gt;8 -->\r\n",
       "<g id=\"edge5\" class=\"edge\"><title>4&#45;&gt;8</title>\r\n",
       "<path fill=\"none\" stroke=\"black\" d=\"M195.335,-88.9485C201.004,-80.1664 207.138,-70.6629 212.85,-61.815\"/>\r\n",
       "<polygon fill=\"black\" stroke=\"black\" points=\"215.904,-63.5365 218.387,-53.2367 210.023,-59.7402 215.904,-63.5365\"/>\r\n",
       "</g>\r\n",
       "<!-- 5 -->\r\n",
       "<g id=\"node8\" class=\"node\"><title>5</title>\r\n",
       "<polygon fill=\"none\" stroke=\"black\" points=\"351,-149.5 247,-149.5 247,-96.5 351,-96.5 351,-149.5\"/>\r\n",
       "<text text-anchor=\"middle\" x=\"299\" y=\"-134.3\" font-family=\"Times New Roman,serif\" font-size=\"14.00\">gini = 0.437</text>\r\n",
       "<text text-anchor=\"middle\" x=\"299\" y=\"-119.3\" font-family=\"Times New Roman,serif\" font-size=\"14.00\">samples = 90</text>\r\n",
       "<text text-anchor=\"middle\" x=\"299\" y=\"-104.3\" font-family=\"Times New Roman,serif\" font-size=\"14.00\">value = [61, 29]</text>\r\n",
       "</g>\r\n",
       "<!-- 2&#45;&gt;5 -->\r\n",
       "<g id=\"edge7\" class=\"edge\"><title>2&#45;&gt;5</title>\r\n",
       "<path fill=\"none\" stroke=\"black\" d=\"M300.351,-192.884C300.141,-182.216 299.909,-170.352 299.696,-159.519\"/>\r\n",
       "<polygon fill=\"black\" stroke=\"black\" points=\"303.196,-159.449 299.5,-149.52 296.197,-159.587 303.196,-159.449\"/>\r\n",
       "</g>\r\n",
       "<!-- 6 -->\r\n",
       "<g id=\"node9\" class=\"node\"><title>6</title>\r\n",
       "<polygon fill=\"none\" stroke=\"black\" points=\"480.5,-149.5 369.5,-149.5 369.5,-96.5 480.5,-96.5 480.5,-149.5\"/>\r\n",
       "<text text-anchor=\"middle\" x=\"425\" y=\"-134.3\" font-family=\"Times New Roman,serif\" font-size=\"14.00\">gini = 0.25</text>\r\n",
       "<text text-anchor=\"middle\" x=\"425\" y=\"-119.3\" font-family=\"Times New Roman,serif\" font-size=\"14.00\">samples = 321</text>\r\n",
       "<text text-anchor=\"middle\" x=\"425\" y=\"-104.3\" font-family=\"Times New Roman,serif\" font-size=\"14.00\">value = [274, 47]</text>\r\n",
       "</g>\r\n",
       "<!-- 2&#45;&gt;6 -->\r\n",
       "<g id=\"edge8\" class=\"edge\"><title>2&#45;&gt;6</title>\r\n",
       "<path fill=\"none\" stroke=\"black\" d=\"M341.259,-192.884C355.699,-181.006 371.94,-167.646 386.249,-155.876\"/>\r\n",
       "<polygon fill=\"black\" stroke=\"black\" points=\"388.476,-158.576 393.976,-149.52 384.029,-153.17 388.476,-158.576\"/>\r\n",
       "</g>\r\n",
       "</g>\r\n",
       "</svg>\r\n"
      ],
      "text/plain": [
       "<graphviz.files.Source at 0x12c30241eb0>"
      ]
     },
     "execution_count": 142,
     "metadata": {},
     "output_type": "execute_result"
    }
   ],
   "source": [
    "dot_data=tree.export_graphviz(dtree , out_file=None)\n",
    "graph=graphviz.Source(dot_data)\n",
    "graph.render(\"data\")\n",
    "graph"
   ]
  },
  {
   "cell_type": "markdown",
   "metadata": {},
   "source": [
    "# Random Forest prediction"
   ]
  },
  {
   "cell_type": "code",
   "execution_count": 143,
   "metadata": {},
   "outputs": [
    {
     "name": "stdout",
     "output_type": "stream",
     "text": [
      "Accuracy: 0.8059701492537313\n"
     ]
    }
   ],
   "source": [
    "clf=RandomForestClassifier(n_estimators=10) \n",
    "clf.fit(x_train, y_train) \n",
    "y_pred=clf.predict(x_test)  \n",
    "print(\"Accuracy:\", metrics.accuracy_score(y_test, y_pred)) "
   ]
  },
  {
   "cell_type": "code",
   "execution_count": 144,
   "metadata": {},
   "outputs": [
    {
     "name": "stdout",
     "output_type": "stream",
     "text": [
      "Accuracy: 0.8134328358208955\n"
     ]
    }
   ],
   "source": [
    "clf=RandomForestClassifier(n_estimators=15) \n",
    "clf.fit(x_train, y_train) \n",
    "y_pred=clf.predict(x_test)  \n",
    "print(\"Accuracy:\", metrics.accuracy_score(y_test, y_pred)) "
   ]
  },
  {
   "cell_type": "code",
   "execution_count": null,
   "metadata": {},
   "outputs": [],
   "source": []
  }
 ],
 "metadata": {
  "kernelspec": {
   "display_name": "Python 3",
   "language": "python",
   "name": "python3"
  },
  "language_info": {
   "codemirror_mode": {
    "name": "ipython",
    "version": 3
   },
   "file_extension": ".py",
   "mimetype": "text/x-python",
   "name": "python",
   "nbconvert_exporter": "python",
   "pygments_lexer": "ipython3",
   "version": "3.8.5"
  }
 },
 "nbformat": 4,
 "nbformat_minor": 4
}
