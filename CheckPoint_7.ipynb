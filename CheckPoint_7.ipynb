{
 "cells": [
  {
   "cell_type": "code",
   "execution_count": 1,
   "metadata": {},
   "outputs": [],
   "source": [
    "import pandas as pd\n",
    "from sklearn.preprocessing import LabelEncoder\n",
    "import matplotlib.pyplot as plt\n",
    "import seaborn as sns\n",
    "from sklearn.preprocessing import StandardScaler\n",
    "from sklearn.model_selection import train_test_split\n",
    "from sklearn import tree   \n",
    "from sklearn.tree import DecisionTreeClassifier\n",
    "from sklearn.metrics import accuracy_score\n",
    "import graphviz\n",
    "from sklearn import datasets\n",
    "import pandas as pd\n",
    "from sklearn.model_selection import train_test_split\n",
    "from sklearn.ensemble import RandomForestClassifier #Importing Random Forest Classifier\n",
    "from sklearn import metrics"
   ]
  },
  {
   "cell_type": "code",
   "execution_count": 2,
   "metadata": {},
   "outputs": [],
   "source": [
    "#conda install python-graphviz"
   ]
  },
  {
   "cell_type": "markdown",
   "metadata": {},
   "source": [
    "# Importing the dataset"
   ]
  },
  {
   "cell_type": "code",
   "execution_count": 3,
   "metadata": {},
   "outputs": [],
   "source": [
    "df=pd.read_csv(\"titanic.csv\",encoding=\"Utf-8\")"
   ]
  },
  {
   "cell_type": "code",
   "execution_count": 4,
   "metadata": {},
   "outputs": [
    {
     "name": "stdout",
     "output_type": "stream",
     "text": [
      "   PassengerId  Survived  Pclass  Sex   Age  SibSp  Parch     Fare  Embarked  \\\n",
      "0          343         0       2    1  28.0      0      0  13.0000         0   \n",
      "1           76         0       3    1  25.0      0      0   7.6500         0   \n",
      "2          641         0       3    1  20.0      0      0   7.8542         0   \n",
      "3          568         0       3    0  29.0      0      4  21.0750         0   \n",
      "4          672         0       1    1  31.0      1      0  52.0000         0   \n",
      "\n",
      "  Title  FamilySize  \n",
      "0   Mrs           0  \n",
      "1   Mrs           0  \n",
      "2   Mrs           0  \n",
      "3   Mrs           4  \n",
      "4   Mrs           1  \n"
     ]
    }
   ],
   "source": [
    "print(df.head())"
   ]
  },
  {
   "cell_type": "markdown",
   "metadata": {},
   "source": [
    "# General Informations"
   ]
  },
  {
   "cell_type": "code",
   "execution_count": 5,
   "metadata": {},
   "outputs": [
    {
     "name": "stdout",
     "output_type": "stream",
     "text": [
      "<class 'pandas.core.frame.DataFrame'>\n",
      "RangeIndex: 891 entries, 0 to 890\n",
      "Data columns (total 11 columns):\n",
      " #   Column       Non-Null Count  Dtype  \n",
      "---  ------       --------------  -----  \n",
      " 0   PassengerId  891 non-null    int64  \n",
      " 1   Survived     891 non-null    int64  \n",
      " 2   Pclass       891 non-null    int64  \n",
      " 3   Sex          891 non-null    int64  \n",
      " 4   Age          891 non-null    float64\n",
      " 5   SibSp        891 non-null    int64  \n",
      " 6   Parch        891 non-null    int64  \n",
      " 7   Fare         891 non-null    float64\n",
      " 8   Embarked     891 non-null    int64  \n",
      " 9   Title        891 non-null    object \n",
      " 10  FamilySize   891 non-null    int64  \n",
      "dtypes: float64(2), int64(8), object(1)\n",
      "memory usage: 76.7+ KB\n",
      "None\n"
     ]
    }
   ],
   "source": [
    "print(df.info())"
   ]
  },
  {
   "cell_type": "markdown",
   "metadata": {},
   "source": [
    "# Preprocessing"
   ]
  },
  {
   "cell_type": "code",
   "execution_count": 6,
   "metadata": {},
   "outputs": [
    {
     "name": "stdout",
     "output_type": "stream",
     "text": [
      "0\n"
     ]
    }
   ],
   "source": [
    "print(df.isnull().sum().sum())"
   ]
  },
  {
   "cell_type": "markdown",
   "metadata": {},
   "source": [
    "# Decision Tree"
   ]
  },
  {
   "cell_type": "code",
   "execution_count": 7,
   "metadata": {},
   "outputs": [],
   "source": [
    "x=df[[\"PassengerId\",\"Pclass\",\"Sex\",\"Age\",\"SibSp\",\"Parch\",\"Fare\",\"Embarked\",\"FamilySize\"]]\n",
    "y= df[\"Survived\"]\n",
    "x_train,x_test,y_train,y_test=train_test_split(x,y,test_size=0.3,random_state=40) "
   ]
  },
  {
   "cell_type": "code",
   "execution_count": 8,
   "metadata": {},
   "outputs": [
    {
     "name": "stdout",
     "output_type": "stream",
     "text": [
      "score:0.7835820895522388\n"
     ]
    }
   ],
   "source": [
    "dtree = tree.DecisionTreeClassifier(criterion= \"gini\" ,splitter=\"random\",max_leaf_nodes=10,min_samples_leaf =5,max_depth= 5)\n",
    "dtree.fit(x_train, y_train)\n",
    "y_pred=dtree.predict(x_test) \n",
    "print(\"score:{}\".format(accuracy_score(y_test, y_pred)))"
   ]
  },
  {
   "cell_type": "code",
   "execution_count": 9,
   "metadata": {},
   "outputs": [
    {
     "data": {
      "image/svg+xml": [
       "<?xml version=\"1.0\" encoding=\"UTF-8\" standalone=\"no\"?>\r\n",
       "<!DOCTYPE svg PUBLIC \"-//W3C//DTD SVG 1.1//EN\"\r\n",
       " \"http://www.w3.org/Graphics/SVG/1.1/DTD/svg11.dtd\">\r\n",
       "<!-- Generated by graphviz version 2.38.0 (20140413.2041)\r\n",
       " -->\r\n",
       "<!-- Title: Tree Pages: 1 -->\r\n",
       "<svg width=\"547pt\" height=\"581pt\"\r\n",
       " viewBox=\"0.00 0.00 546.50 581.00\" xmlns=\"http://www.w3.org/2000/svg\" xmlns:xlink=\"http://www.w3.org/1999/xlink\">\r\n",
       "<g id=\"graph0\" class=\"graph\" transform=\"scale(1 1) rotate(0) translate(4 577)\">\r\n",
       "<title>Tree</title>\r\n",
       "<polygon fill=\"white\" stroke=\"none\" points=\"-4,4 -4,-577 542.5,-577 542.5,4 -4,4\"/>\r\n",
       "<!-- 0 -->\r\n",
       "<g id=\"node1\" class=\"node\"><title>0</title>\r\n",
       "<polygon fill=\"none\" stroke=\"black\" points=\"346,-573 228,-573 228,-505 346,-505 346,-573\"/>\r\n",
       "<text text-anchor=\"middle\" x=\"287\" y=\"-557.8\" font-family=\"Times New Roman,serif\" font-size=\"14.00\">X[2] &lt;= 0.141</text>\r\n",
       "<text text-anchor=\"middle\" x=\"287\" y=\"-542.8\" font-family=\"Times New Roman,serif\" font-size=\"14.00\">gini = 0.471</text>\r\n",
       "<text text-anchor=\"middle\" x=\"287\" y=\"-527.8\" font-family=\"Times New Roman,serif\" font-size=\"14.00\">samples = 623</text>\r\n",
       "<text text-anchor=\"middle\" x=\"287\" y=\"-512.8\" font-family=\"Times New Roman,serif\" font-size=\"14.00\">value = [387, 236]</text>\r\n",
       "</g>\r\n",
       "<!-- 1 -->\r\n",
       "<g id=\"node2\" class=\"node\"><title>1</title>\r\n",
       "<polygon fill=\"none\" stroke=\"black\" points=\"278.5,-469 167.5,-469 167.5,-401 278.5,-401 278.5,-469\"/>\r\n",
       "<text text-anchor=\"middle\" x=\"223\" y=\"-453.8\" font-family=\"Times New Roman,serif\" font-size=\"14.00\">X[1] &lt;= 2.04</text>\r\n",
       "<text text-anchor=\"middle\" x=\"223\" y=\"-438.8\" font-family=\"Times New Roman,serif\" font-size=\"14.00\">gini = 0.37</text>\r\n",
       "<text text-anchor=\"middle\" x=\"223\" y=\"-423.8\" font-family=\"Times New Roman,serif\" font-size=\"14.00\">samples = 212</text>\r\n",
       "<text text-anchor=\"middle\" x=\"223\" y=\"-408.8\" font-family=\"Times New Roman,serif\" font-size=\"14.00\">value = [52, 160]</text>\r\n",
       "</g>\r\n",
       "<!-- 0&#45;&gt;1 -->\r\n",
       "<g id=\"edge1\" class=\"edge\"><title>0&#45;&gt;1</title>\r\n",
       "<path fill=\"none\" stroke=\"black\" d=\"M266.221,-504.884C260.8,-496.243 254.887,-486.819 249.223,-477.793\"/>\r\n",
       "<polygon fill=\"black\" stroke=\"black\" points=\"252.173,-475.91 243.894,-469.299 246.244,-479.63 252.173,-475.91\"/>\r\n",
       "<text text-anchor=\"middle\" x=\"238.315\" y=\"-489.969\" font-family=\"Times New Roman,serif\" font-size=\"14.00\">True</text>\r\n",
       "</g>\r\n",
       "<!-- 2 -->\r\n",
       "<g id=\"node11\" class=\"node\"><title>2</title>\r\n",
       "<polygon fill=\"none\" stroke=\"black\" points=\"407.5,-469 296.5,-469 296.5,-401 407.5,-401 407.5,-469\"/>\r\n",
       "<text text-anchor=\"middle\" x=\"352\" y=\"-453.8\" font-family=\"Times New Roman,serif\" font-size=\"14.00\">X[1] &lt;= 1.667</text>\r\n",
       "<text text-anchor=\"middle\" x=\"352\" y=\"-438.8\" font-family=\"Times New Roman,serif\" font-size=\"14.00\">gini = 0.301</text>\r\n",
       "<text text-anchor=\"middle\" x=\"352\" y=\"-423.8\" font-family=\"Times New Roman,serif\" font-size=\"14.00\">samples = 411</text>\r\n",
       "<text text-anchor=\"middle\" x=\"352\" y=\"-408.8\" font-family=\"Times New Roman,serif\" font-size=\"14.00\">value = [335, 76]</text>\r\n",
       "</g>\r\n",
       "<!-- 0&#45;&gt;2 -->\r\n",
       "<g id=\"edge10\" class=\"edge\"><title>0&#45;&gt;2</title>\r\n",
       "<path fill=\"none\" stroke=\"black\" d=\"M308.104,-504.884C313.61,-496.243 319.615,-486.819 325.367,-477.793\"/>\r\n",
       "<polygon fill=\"black\" stroke=\"black\" points=\"328.357,-479.614 330.78,-469.299 322.454,-475.852 328.357,-479.614\"/>\r\n",
       "<text text-anchor=\"middle\" x=\"336.188\" y=\"-490.007\" font-family=\"Times New Roman,serif\" font-size=\"14.00\">False</text>\r\n",
       "</g>\r\n",
       "<!-- 3 -->\r\n",
       "<g id=\"node3\" class=\"node\"><title>3</title>\r\n",
       "<polygon fill=\"none\" stroke=\"black\" points=\"154,-357.5 50,-357.5 50,-304.5 154,-304.5 154,-357.5\"/>\r\n",
       "<text text-anchor=\"middle\" x=\"102\" y=\"-342.3\" font-family=\"Times New Roman,serif\" font-size=\"14.00\">gini = 0.081</text>\r\n",
       "<text text-anchor=\"middle\" x=\"102\" y=\"-327.3\" font-family=\"Times New Roman,serif\" font-size=\"14.00\">samples = 119</text>\r\n",
       "<text text-anchor=\"middle\" x=\"102\" y=\"-312.3\" font-family=\"Times New Roman,serif\" font-size=\"14.00\">value = [5, 114]</text>\r\n",
       "</g>\r\n",
       "<!-- 1&#45;&gt;3 -->\r\n",
       "<g id=\"edge2\" class=\"edge\"><title>1&#45;&gt;3</title>\r\n",
       "<path fill=\"none\" stroke=\"black\" d=\"M183.715,-400.884C169.755,-389.116 154.07,-375.894 140.202,-364.203\"/>\r\n",
       "<polygon fill=\"black\" stroke=\"black\" points=\"142.175,-361.289 132.274,-357.52 137.664,-366.641 142.175,-361.289\"/>\r\n",
       "</g>\r\n",
       "<!-- 4 -->\r\n",
       "<g id=\"node4\" class=\"node\"><title>4</title>\r\n",
       "<polygon fill=\"none\" stroke=\"black\" points=\"276,-365 172,-365 172,-297 276,-297 276,-365\"/>\r\n",
       "<text text-anchor=\"middle\" x=\"224\" y=\"-349.8\" font-family=\"Times New Roman,serif\" font-size=\"14.00\">X[6] &lt;= 24.806</text>\r\n",
       "<text text-anchor=\"middle\" x=\"224\" y=\"-334.8\" font-family=\"Times New Roman,serif\" font-size=\"14.00\">gini = 0.5</text>\r\n",
       "<text text-anchor=\"middle\" x=\"224\" y=\"-319.8\" font-family=\"Times New Roman,serif\" font-size=\"14.00\">samples = 93</text>\r\n",
       "<text text-anchor=\"middle\" x=\"224\" y=\"-304.8\" font-family=\"Times New Roman,serif\" font-size=\"14.00\">value = [47, 46]</text>\r\n",
       "</g>\r\n",
       "<!-- 1&#45;&gt;4 -->\r\n",
       "<g id=\"edge3\" class=\"edge\"><title>1&#45;&gt;4</title>\r\n",
       "<path fill=\"none\" stroke=\"black\" d=\"M223.325,-400.884C223.404,-392.778 223.49,-383.982 223.574,-375.472\"/>\r\n",
       "<polygon fill=\"black\" stroke=\"black\" points=\"227.075,-375.333 223.674,-365.299 220.076,-375.265 227.075,-375.333\"/>\r\n",
       "</g>\r\n",
       "<!-- 5 -->\r\n",
       "<g id=\"node5\" class=\"node\"><title>5</title>\r\n",
       "<polygon fill=\"none\" stroke=\"black\" points=\"160,-261 56,-261 56,-193 160,-193 160,-261\"/>\r\n",
       "<text text-anchor=\"middle\" x=\"108\" y=\"-245.8\" font-family=\"Times New Roman,serif\" font-size=\"14.00\">X[7] &lt;= 1.554</text>\r\n",
       "<text text-anchor=\"middle\" x=\"108\" y=\"-230.8\" font-family=\"Times New Roman,serif\" font-size=\"14.00\">gini = 0.492</text>\r\n",
       "<text text-anchor=\"middle\" x=\"108\" y=\"-215.8\" font-family=\"Times New Roman,serif\" font-size=\"14.00\">samples = 78</text>\r\n",
       "<text text-anchor=\"middle\" x=\"108\" y=\"-200.8\" font-family=\"Times New Roman,serif\" font-size=\"14.00\">value = [34, 44]</text>\r\n",
       "</g>\r\n",
       "<!-- 4&#45;&gt;5 -->\r\n",
       "<g id=\"edge4\" class=\"edge\"><title>4&#45;&gt;5</title>\r\n",
       "<path fill=\"none\" stroke=\"black\" d=\"M186.338,-296.884C175.904,-287.709 164.465,-277.65 153.63,-268.123\"/>\r\n",
       "<polygon fill=\"black\" stroke=\"black\" points=\"155.691,-265.274 145.87,-261.299 151.068,-270.531 155.691,-265.274\"/>\r\n",
       "</g>\r\n",
       "<!-- 6 -->\r\n",
       "<g id=\"node10\" class=\"node\"><title>6</title>\r\n",
       "<polygon fill=\"none\" stroke=\"black\" points=\"276,-253.5 178,-253.5 178,-200.5 276,-200.5 276,-253.5\"/>\r\n",
       "<text text-anchor=\"middle\" x=\"227\" y=\"-238.3\" font-family=\"Times New Roman,serif\" font-size=\"14.00\">gini = 0.231</text>\r\n",
       "<text text-anchor=\"middle\" x=\"227\" y=\"-223.3\" font-family=\"Times New Roman,serif\" font-size=\"14.00\">samples = 15</text>\r\n",
       "<text text-anchor=\"middle\" x=\"227\" y=\"-208.3\" font-family=\"Times New Roman,serif\" font-size=\"14.00\">value = [13, 2]</text>\r\n",
       "</g>\r\n",
       "<!-- 4&#45;&gt;6 -->\r\n",
       "<g id=\"edge9\" class=\"edge\"><title>4&#45;&gt;6</title>\r\n",
       "<path fill=\"none\" stroke=\"black\" d=\"M224.974,-296.884C225.288,-286.216 225.637,-274.352 225.955,-263.519\"/>\r\n",
       "<polygon fill=\"black\" stroke=\"black\" points=\"229.454,-263.619 226.249,-253.52 222.457,-263.413 229.454,-263.619\"/>\r\n",
       "</g>\r\n",
       "<!-- 9 -->\r\n",
       "<g id=\"node6\" class=\"node\"><title>9</title>\r\n",
       "<polygon fill=\"none\" stroke=\"black\" points=\"133,-157 23,-157 23,-89 133,-89 133,-157\"/>\r\n",
       "<text text-anchor=\"middle\" x=\"78\" y=\"-141.8\" font-family=\"Times New Roman,serif\" font-size=\"14.00\">X[0] &lt;= 765.963</text>\r\n",
       "<text text-anchor=\"middle\" x=\"78\" y=\"-126.8\" font-family=\"Times New Roman,serif\" font-size=\"14.00\">gini = 0.5</text>\r\n",
       "<text text-anchor=\"middle\" x=\"78\" y=\"-111.8\" font-family=\"Times New Roman,serif\" font-size=\"14.00\">samples = 60</text>\r\n",
       "<text text-anchor=\"middle\" x=\"78\" y=\"-96.8\" font-family=\"Times New Roman,serif\" font-size=\"14.00\">value = [30, 30]</text>\r\n",
       "</g>\r\n",
       "<!-- 5&#45;&gt;9 -->\r\n",
       "<g id=\"edge5\" class=\"edge\"><title>5&#45;&gt;9</title>\r\n",
       "<path fill=\"none\" stroke=\"black\" d=\"M98.2599,-192.884C95.8234,-184.6 93.175,-175.595 90.621,-166.911\"/>\r\n",
       "<polygon fill=\"black\" stroke=\"black\" points=\"93.9734,-165.905 87.7939,-157.299 87.2579,-167.881 93.9734,-165.905\"/>\r\n",
       "</g>\r\n",
       "<!-- 10 -->\r\n",
       "<g id=\"node9\" class=\"node\"><title>10</title>\r\n",
       "<polygon fill=\"none\" stroke=\"black\" points=\"249,-149.5 151,-149.5 151,-96.5 249,-96.5 249,-149.5\"/>\r\n",
       "<text text-anchor=\"middle\" x=\"200\" y=\"-134.3\" font-family=\"Times New Roman,serif\" font-size=\"14.00\">gini = 0.346</text>\r\n",
       "<text text-anchor=\"middle\" x=\"200\" y=\"-119.3\" font-family=\"Times New Roman,serif\" font-size=\"14.00\">samples = 18</text>\r\n",
       "<text text-anchor=\"middle\" x=\"200\" y=\"-104.3\" font-family=\"Times New Roman,serif\" font-size=\"14.00\">value = [4, 14]</text>\r\n",
       "</g>\r\n",
       "<!-- 5&#45;&gt;10 -->\r\n",
       "<g id=\"edge8\" class=\"edge\"><title>5&#45;&gt;10</title>\r\n",
       "<path fill=\"none\" stroke=\"black\" d=\"M137.87,-192.884C148.186,-181.446 159.742,-168.634 170.064,-157.19\"/>\r\n",
       "<polygon fill=\"black\" stroke=\"black\" points=\"172.883,-159.29 176.982,-149.52 167.685,-154.601 172.883,-159.29\"/>\r\n",
       "</g>\r\n",
       "<!-- 17 -->\r\n",
       "<g id=\"node7\" class=\"node\"><title>17</title>\r\n",
       "<polygon fill=\"none\" stroke=\"black\" points=\"104,-53 0,-53 0,-0 104,-0 104,-53\"/>\r\n",
       "<text text-anchor=\"middle\" x=\"52\" y=\"-37.8\" font-family=\"Times New Roman,serif\" font-size=\"14.00\">gini = 0.497</text>\r\n",
       "<text text-anchor=\"middle\" x=\"52\" y=\"-22.8\" font-family=\"Times New Roman,serif\" font-size=\"14.00\">samples = 50</text>\r\n",
       "<text text-anchor=\"middle\" x=\"52\" y=\"-7.8\" font-family=\"Times New Roman,serif\" font-size=\"14.00\">value = [27, 23]</text>\r\n",
       "</g>\r\n",
       "<!-- 9&#45;&gt;17 -->\r\n",
       "<g id=\"edge6\" class=\"edge\"><title>9&#45;&gt;17</title>\r\n",
       "<path fill=\"none\" stroke=\"black\" d=\"M68.9065,-88.9485C66.5909,-80.5323 64.0931,-71.4536 61.7464,-62.9243\"/>\r\n",
       "<polygon fill=\"black\" stroke=\"black\" points=\"65.1084,-61.9499 59.081,-53.2367 58.3592,-63.8069 65.1084,-61.9499\"/>\r\n",
       "</g>\r\n",
       "<!-- 18 -->\r\n",
       "<g id=\"node8\" class=\"node\"><title>18</title>\r\n",
       "<polygon fill=\"none\" stroke=\"black\" points=\"213.5,-53 122.5,-53 122.5,-0 213.5,-0 213.5,-53\"/>\r\n",
       "<text text-anchor=\"middle\" x=\"168\" y=\"-37.8\" font-family=\"Times New Roman,serif\" font-size=\"14.00\">gini = 0.42</text>\r\n",
       "<text text-anchor=\"middle\" x=\"168\" y=\"-22.8\" font-family=\"Times New Roman,serif\" font-size=\"14.00\">samples = 10</text>\r\n",
       "<text text-anchor=\"middle\" x=\"168\" y=\"-7.8\" font-family=\"Times New Roman,serif\" font-size=\"14.00\">value = [3, 7]</text>\r\n",
       "</g>\r\n",
       "<!-- 9&#45;&gt;18 -->\r\n",
       "<g id=\"edge7\" class=\"edge\"><title>9&#45;&gt;18</title>\r\n",
       "<path fill=\"none\" stroke=\"black\" d=\"M109.478,-88.9485C118.19,-79.8005 127.648,-69.8697 136.369,-60.7126\"/>\r\n",
       "<polygon fill=\"black\" stroke=\"black\" points=\"139.127,-62.8919 143.489,-53.2367 134.058,-58.0643 139.127,-62.8919\"/>\r\n",
       "</g>\r\n",
       "<!-- 7 -->\r\n",
       "<g id=\"node12\" class=\"node\"><title>7</title>\r\n",
       "<polygon fill=\"none\" stroke=\"black\" points=\"406,-365 296,-365 296,-297 406,-297 406,-365\"/>\r\n",
       "<text text-anchor=\"middle\" x=\"351\" y=\"-349.8\" font-family=\"Times New Roman,serif\" font-size=\"14.00\">X[0] &lt;= 202.875</text>\r\n",
       "<text text-anchor=\"middle\" x=\"351\" y=\"-334.8\" font-family=\"Times New Roman,serif\" font-size=\"14.00\">gini = 0.437</text>\r\n",
       "<text text-anchor=\"middle\" x=\"351\" y=\"-319.8\" font-family=\"Times New Roman,serif\" font-size=\"14.00\">samples = 90</text>\r\n",
       "<text text-anchor=\"middle\" x=\"351\" y=\"-304.8\" font-family=\"Times New Roman,serif\" font-size=\"14.00\">value = [61, 29]</text>\r\n",
       "</g>\r\n",
       "<!-- 2&#45;&gt;7 -->\r\n",
       "<g id=\"edge11\" class=\"edge\"><title>2&#45;&gt;7</title>\r\n",
       "<path fill=\"none\" stroke=\"black\" d=\"M351.675,-400.884C351.596,-392.778 351.51,-383.982 351.426,-375.472\"/>\r\n",
       "<polygon fill=\"black\" stroke=\"black\" points=\"354.924,-375.265 351.326,-365.299 347.925,-375.333 354.924,-375.265\"/>\r\n",
       "</g>\r\n",
       "<!-- 8 -->\r\n",
       "<g id=\"node19\" class=\"node\"><title>8</title>\r\n",
       "<polygon fill=\"none\" stroke=\"black\" points=\"535.5,-357.5 424.5,-357.5 424.5,-304.5 535.5,-304.5 535.5,-357.5\"/>\r\n",
       "<text text-anchor=\"middle\" x=\"480\" y=\"-342.3\" font-family=\"Times New Roman,serif\" font-size=\"14.00\">gini = 0.25</text>\r\n",
       "<text text-anchor=\"middle\" x=\"480\" y=\"-327.3\" font-family=\"Times New Roman,serif\" font-size=\"14.00\">samples = 321</text>\r\n",
       "<text text-anchor=\"middle\" x=\"480\" y=\"-312.3\" font-family=\"Times New Roman,serif\" font-size=\"14.00\">value = [274, 47]</text>\r\n",
       "</g>\r\n",
       "<!-- 2&#45;&gt;8 -->\r\n",
       "<g id=\"edge18\" class=\"edge\"><title>2&#45;&gt;8</title>\r\n",
       "<path fill=\"none\" stroke=\"black\" d=\"M393.558,-400.884C408.463,-389.006 425.228,-375.646 439.999,-363.876\"/>\r\n",
       "<polygon fill=\"black\" stroke=\"black\" points=\"442.336,-366.489 447.975,-357.52 437.973,-361.015 442.336,-366.489\"/>\r\n",
       "</g>\r\n",
       "<!-- 11 -->\r\n",
       "<g id=\"node13\" class=\"node\"><title>11</title>\r\n",
       "<polygon fill=\"none\" stroke=\"black\" points=\"396,-253.5 298,-253.5 298,-200.5 396,-200.5 396,-253.5\"/>\r\n",
       "<text text-anchor=\"middle\" x=\"347\" y=\"-238.3\" font-family=\"Times New Roman,serif\" font-size=\"14.00\">gini = 0.245</text>\r\n",
       "<text text-anchor=\"middle\" x=\"347\" y=\"-223.3\" font-family=\"Times New Roman,serif\" font-size=\"14.00\">samples = 21</text>\r\n",
       "<text text-anchor=\"middle\" x=\"347\" y=\"-208.3\" font-family=\"Times New Roman,serif\" font-size=\"14.00\">value = [18, 3]</text>\r\n",
       "</g>\r\n",
       "<!-- 7&#45;&gt;11 -->\r\n",
       "<g id=\"edge12\" class=\"edge\"><title>7&#45;&gt;11</title>\r\n",
       "<path fill=\"none\" stroke=\"black\" d=\"M349.701,-296.884C349.283,-286.216 348.818,-274.352 348.393,-263.519\"/>\r\n",
       "<polygon fill=\"black\" stroke=\"black\" points=\"351.89,-263.375 348.001,-253.52 344.895,-263.649 351.89,-263.375\"/>\r\n",
       "</g>\r\n",
       "<!-- 12 -->\r\n",
       "<g id=\"node14\" class=\"node\"><title>12</title>\r\n",
       "<polygon fill=\"none\" stroke=\"black\" points=\"518,-261 414,-261 414,-193 518,-193 518,-261\"/>\r\n",
       "<text text-anchor=\"middle\" x=\"466\" y=\"-245.8\" font-family=\"Times New Roman,serif\" font-size=\"14.00\">X[5] &lt;= 1.429</text>\r\n",
       "<text text-anchor=\"middle\" x=\"466\" y=\"-230.8\" font-family=\"Times New Roman,serif\" font-size=\"14.00\">gini = 0.47</text>\r\n",
       "<text text-anchor=\"middle\" x=\"466\" y=\"-215.8\" font-family=\"Times New Roman,serif\" font-size=\"14.00\">samples = 69</text>\r\n",
       "<text text-anchor=\"middle\" x=\"466\" y=\"-200.8\" font-family=\"Times New Roman,serif\" font-size=\"14.00\">value = [43, 26]</text>\r\n",
       "</g>\r\n",
       "<!-- 7&#45;&gt;12 -->\r\n",
       "<g id=\"edge13\" class=\"edge\"><title>7&#45;&gt;12</title>\r\n",
       "<path fill=\"none\" stroke=\"black\" d=\"M388.337,-296.884C398.681,-287.709 410.022,-277.65 420.764,-268.123\"/>\r\n",
       "<polygon fill=\"black\" stroke=\"black\" points=\"423.298,-270.553 428.457,-261.299 418.653,-265.317 423.298,-270.553\"/>\r\n",
       "</g>\r\n",
       "<!-- 13 -->\r\n",
       "<g id=\"node15\" class=\"node\"><title>13</title>\r\n",
       "<polygon fill=\"none\" stroke=\"black\" points=\"429,-157 319,-157 319,-89 429,-89 429,-157\"/>\r\n",
       "<text text-anchor=\"middle\" x=\"374\" y=\"-141.8\" font-family=\"Times New Roman,serif\" font-size=\"14.00\">X[0] &lt;= 729.233</text>\r\n",
       "<text text-anchor=\"middle\" x=\"374\" y=\"-126.8\" font-family=\"Times New Roman,serif\" font-size=\"14.00\">gini = 0.455</text>\r\n",
       "<text text-anchor=\"middle\" x=\"374\" y=\"-111.8\" font-family=\"Times New Roman,serif\" font-size=\"14.00\">samples = 63</text>\r\n",
       "<text text-anchor=\"middle\" x=\"374\" y=\"-96.8\" font-family=\"Times New Roman,serif\" font-size=\"14.00\">value = [41, 22]</text>\r\n",
       "</g>\r\n",
       "<!-- 12&#45;&gt;13 -->\r\n",
       "<g id=\"edge14\" class=\"edge\"><title>12&#45;&gt;13</title>\r\n",
       "<path fill=\"none\" stroke=\"black\" d=\"M436.13,-192.884C428.096,-183.976 419.31,-174.235 410.941,-164.957\"/>\r\n",
       "<polygon fill=\"black\" stroke=\"black\" points=\"413.331,-162.381 404.035,-157.299 408.133,-167.069 413.331,-162.381\"/>\r\n",
       "</g>\r\n",
       "<!-- 14 -->\r\n",
       "<g id=\"node18\" class=\"node\"><title>14</title>\r\n",
       "<polygon fill=\"none\" stroke=\"black\" points=\"538.5,-149.5 447.5,-149.5 447.5,-96.5 538.5,-96.5 538.5,-149.5\"/>\r\n",
       "<text text-anchor=\"middle\" x=\"493\" y=\"-134.3\" font-family=\"Times New Roman,serif\" font-size=\"14.00\">gini = 0.444</text>\r\n",
       "<text text-anchor=\"middle\" x=\"493\" y=\"-119.3\" font-family=\"Times New Roman,serif\" font-size=\"14.00\">samples = 6</text>\r\n",
       "<text text-anchor=\"middle\" x=\"493\" y=\"-104.3\" font-family=\"Times New Roman,serif\" font-size=\"14.00\">value = [2, 4]</text>\r\n",
       "</g>\r\n",
       "<!-- 12&#45;&gt;14 -->\r\n",
       "<g id=\"edge17\" class=\"edge\"><title>12&#45;&gt;14</title>\r\n",
       "<path fill=\"none\" stroke=\"black\" d=\"M474.766,-192.884C477.59,-182.216 480.73,-170.352 483.598,-159.519\"/>\r\n",
       "<polygon fill=\"black\" stroke=\"black\" points=\"487.069,-160.083 486.245,-149.52 480.302,-158.291 487.069,-160.083\"/>\r\n",
       "</g>\r\n",
       "<!-- 15 -->\r\n",
       "<g id=\"node16\" class=\"node\"><title>15</title>\r\n",
       "<polygon fill=\"none\" stroke=\"black\" points=\"381,-53 277,-53 277,-0 381,-0 381,-53\"/>\r\n",
       "<text text-anchor=\"middle\" x=\"329\" y=\"-37.8\" font-family=\"Times New Roman,serif\" font-size=\"14.00\">gini = 0.478</text>\r\n",
       "<text text-anchor=\"middle\" x=\"329\" y=\"-22.8\" font-family=\"Times New Roman,serif\" font-size=\"14.00\">samples = 53</text>\r\n",
       "<text text-anchor=\"middle\" x=\"329\" y=\"-7.8\" font-family=\"Times New Roman,serif\" font-size=\"14.00\">value = [32, 21]</text>\r\n",
       "</g>\r\n",
       "<!-- 13&#45;&gt;15 -->\r\n",
       "<g id=\"edge15\" class=\"edge\"><title>13&#45;&gt;15</title>\r\n",
       "<path fill=\"none\" stroke=\"black\" d=\"M358.261,-88.9485C354.166,-80.3494 349.742,-71.0586 345.604,-62.3689\"/>\r\n",
       "<polygon fill=\"black\" stroke=\"black\" points=\"348.715,-60.7605 341.256,-53.2367 342.395,-63.7701 348.715,-60.7605\"/>\r\n",
       "</g>\r\n",
       "<!-- 16 -->\r\n",
       "<g id=\"node17\" class=\"node\"><title>16</title>\r\n",
       "<polygon fill=\"none\" stroke=\"black\" points=\"490.5,-53 399.5,-53 399.5,-0 490.5,-0 490.5,-53\"/>\r\n",
       "<text text-anchor=\"middle\" x=\"445\" y=\"-37.8\" font-family=\"Times New Roman,serif\" font-size=\"14.00\">gini = 0.18</text>\r\n",
       "<text text-anchor=\"middle\" x=\"445\" y=\"-22.8\" font-family=\"Times New Roman,serif\" font-size=\"14.00\">samples = 10</text>\r\n",
       "<text text-anchor=\"middle\" x=\"445\" y=\"-7.8\" font-family=\"Times New Roman,serif\" font-size=\"14.00\">value = [9, 1]</text>\r\n",
       "</g>\r\n",
       "<!-- 13&#45;&gt;16 -->\r\n",
       "<g id=\"edge16\" class=\"edge\"><title>13&#45;&gt;16</title>\r\n",
       "<path fill=\"none\" stroke=\"black\" d=\"M398.832,-88.9485C405.568,-79.9834 412.868,-70.2666 419.633,-61.2629\"/>\r\n",
       "<polygon fill=\"black\" stroke=\"black\" points=\"422.455,-63.334 425.663,-53.2367 416.858,-59.1293 422.455,-63.334\"/>\r\n",
       "</g>\r\n",
       "</g>\r\n",
       "</svg>\r\n"
      ],
      "text/plain": [
       "<graphviz.files.Source at 0x22cfb7ec910>"
      ]
     },
     "execution_count": 9,
     "metadata": {},
     "output_type": "execute_result"
    }
   ],
   "source": [
    "dot_data=tree.export_graphviz(dtree , out_file=None)\n",
    "graph=graphviz.Source(dot_data)\n",
    "graph.render(\"data\")\n",
    "graph"
   ]
  },
  {
   "cell_type": "code",
   "execution_count": 10,
   "metadata": {},
   "outputs": [
    {
     "name": "stdout",
     "output_type": "stream",
     "text": [
      "score:0.7649253731343284\n"
     ]
    }
   ],
   "source": [
    "dtree = tree.DecisionTreeClassifier(criterion= \"gini\" ,splitter=\"random\",max_leaf_nodes=5,min_samples_leaf =3,max_depth= 5)\n",
    "dtree.fit(x_train, y_train)\n",
    "y_pred=dtree.predict(x_test) \n",
    "print(\"score:{}\".format(accuracy_score(y_test, y_pred)))"
   ]
  },
  {
   "cell_type": "code",
   "execution_count": 11,
   "metadata": {},
   "outputs": [
    {
     "data": {
      "image/svg+xml": [
       "<?xml version=\"1.0\" encoding=\"UTF-8\" standalone=\"no\"?>\r\n",
       "<!DOCTYPE svg PUBLIC \"-//W3C//DTD SVG 1.1//EN\"\r\n",
       " \"http://www.w3.org/Graphics/SVG/1.1/DTD/svg11.dtd\">\r\n",
       "<!-- Generated by graphviz version 2.38.0 (20140413.2041)\r\n",
       " -->\r\n",
       "<!-- Title: Tree Pages: 1 -->\r\n",
       "<svg width=\"483pt\" height=\"373pt\"\r\n",
       " viewBox=\"0.00 0.00 482.50 373.00\" xmlns=\"http://www.w3.org/2000/svg\" xmlns:xlink=\"http://www.w3.org/1999/xlink\">\r\n",
       "<g id=\"graph0\" class=\"graph\" transform=\"scale(1 1) rotate(0) translate(4 369)\">\r\n",
       "<title>Tree</title>\r\n",
       "<polygon fill=\"white\" stroke=\"none\" points=\"-4,4 -4,-369 478.5,-369 478.5,4 -4,4\"/>\r\n",
       "<!-- 0 -->\r\n",
       "<g id=\"node1\" class=\"node\"><title>0</title>\r\n",
       "<polygon fill=\"none\" stroke=\"black\" points=\"289,-365 171,-365 171,-297 289,-297 289,-365\"/>\r\n",
       "<text text-anchor=\"middle\" x=\"230\" y=\"-349.8\" font-family=\"Times New Roman,serif\" font-size=\"14.00\">X[2] &lt;= 0.608</text>\r\n",
       "<text text-anchor=\"middle\" x=\"230\" y=\"-334.8\" font-family=\"Times New Roman,serif\" font-size=\"14.00\">gini = 0.471</text>\r\n",
       "<text text-anchor=\"middle\" x=\"230\" y=\"-319.8\" font-family=\"Times New Roman,serif\" font-size=\"14.00\">samples = 623</text>\r\n",
       "<text text-anchor=\"middle\" x=\"230\" y=\"-304.8\" font-family=\"Times New Roman,serif\" font-size=\"14.00\">value = [387, 236]</text>\r\n",
       "</g>\r\n",
       "<!-- 1 -->\r\n",
       "<g id=\"node2\" class=\"node\"><title>1</title>\r\n",
       "<polygon fill=\"none\" stroke=\"black\" points=\"221.5,-261 110.5,-261 110.5,-193 221.5,-193 221.5,-261\"/>\r\n",
       "<text text-anchor=\"middle\" x=\"166\" y=\"-245.8\" font-family=\"Times New Roman,serif\" font-size=\"14.00\">X[1] &lt;= 1.104</text>\r\n",
       "<text text-anchor=\"middle\" x=\"166\" y=\"-230.8\" font-family=\"Times New Roman,serif\" font-size=\"14.00\">gini = 0.37</text>\r\n",
       "<text text-anchor=\"middle\" x=\"166\" y=\"-215.8\" font-family=\"Times New Roman,serif\" font-size=\"14.00\">samples = 212</text>\r\n",
       "<text text-anchor=\"middle\" x=\"166\" y=\"-200.8\" font-family=\"Times New Roman,serif\" font-size=\"14.00\">value = [52, 160]</text>\r\n",
       "</g>\r\n",
       "<!-- 0&#45;&gt;1 -->\r\n",
       "<g id=\"edge1\" class=\"edge\"><title>0&#45;&gt;1</title>\r\n",
       "<path fill=\"none\" stroke=\"black\" d=\"M209.221,-296.884C203.8,-288.243 197.887,-278.819 192.223,-269.793\"/>\r\n",
       "<polygon fill=\"black\" stroke=\"black\" points=\"195.173,-267.91 186.894,-261.299 189.244,-271.63 195.173,-267.91\"/>\r\n",
       "<text text-anchor=\"middle\" x=\"181.315\" y=\"-281.969\" font-family=\"Times New Roman,serif\" font-size=\"14.00\">True</text>\r\n",
       "</g>\r\n",
       "<!-- 2 -->\r\n",
       "<g id=\"node7\" class=\"node\"><title>2</title>\r\n",
       "<polygon fill=\"none\" stroke=\"black\" points=\"350.5,-261 239.5,-261 239.5,-193 350.5,-193 350.5,-261\"/>\r\n",
       "<text text-anchor=\"middle\" x=\"295\" y=\"-245.8\" font-family=\"Times New Roman,serif\" font-size=\"14.00\">X[1] &lt;= 1.63</text>\r\n",
       "<text text-anchor=\"middle\" x=\"295\" y=\"-230.8\" font-family=\"Times New Roman,serif\" font-size=\"14.00\">gini = 0.301</text>\r\n",
       "<text text-anchor=\"middle\" x=\"295\" y=\"-215.8\" font-family=\"Times New Roman,serif\" font-size=\"14.00\">samples = 411</text>\r\n",
       "<text text-anchor=\"middle\" x=\"295\" y=\"-200.8\" font-family=\"Times New Roman,serif\" font-size=\"14.00\">value = [335, 76]</text>\r\n",
       "</g>\r\n",
       "<!-- 0&#45;&gt;2 -->\r\n",
       "<g id=\"edge6\" class=\"edge\"><title>0&#45;&gt;2</title>\r\n",
       "<path fill=\"none\" stroke=\"black\" d=\"M251.104,-296.884C256.61,-288.243 262.615,-278.819 268.367,-269.793\"/>\r\n",
       "<polygon fill=\"black\" stroke=\"black\" points=\"271.357,-271.614 273.78,-261.299 265.454,-267.852 271.357,-271.614\"/>\r\n",
       "<text text-anchor=\"middle\" x=\"279.188\" y=\"-282.007\" font-family=\"Times New Roman,serif\" font-size=\"14.00\">False</text>\r\n",
       "</g>\r\n",
       "<!-- 3 -->\r\n",
       "<g id=\"node3\" class=\"node\"><title>3</title>\r\n",
       "<polygon fill=\"none\" stroke=\"black\" points=\"98,-149.5 0,-149.5 0,-96.5 98,-96.5 98,-149.5\"/>\r\n",
       "<text text-anchor=\"middle\" x=\"49\" y=\"-134.3\" font-family=\"Times New Roman,serif\" font-size=\"14.00\">gini = 0.0</text>\r\n",
       "<text text-anchor=\"middle\" x=\"49\" y=\"-119.3\" font-family=\"Times New Roman,serif\" font-size=\"14.00\">samples = 68</text>\r\n",
       "<text text-anchor=\"middle\" x=\"49\" y=\"-104.3\" font-family=\"Times New Roman,serif\" font-size=\"14.00\">value = [0, 68]</text>\r\n",
       "</g>\r\n",
       "<!-- 1&#45;&gt;3 -->\r\n",
       "<g id=\"edge2\" class=\"edge\"><title>1&#45;&gt;3</title>\r\n",
       "<path fill=\"none\" stroke=\"black\" d=\"M128.013,-192.884C114.515,-181.116 99.3485,-167.894 85.9391,-156.203\"/>\r\n",
       "<polygon fill=\"black\" stroke=\"black\" points=\"88.1106,-153.453 78.2729,-149.52 83.5106,-158.73 88.1106,-153.453\"/>\r\n",
       "</g>\r\n",
       "<!-- 4 -->\r\n",
       "<g id=\"node4\" class=\"node\"><title>4</title>\r\n",
       "<polygon fill=\"none\" stroke=\"black\" points=\"220,-157 116,-157 116,-89 220,-89 220,-157\"/>\r\n",
       "<text text-anchor=\"middle\" x=\"168\" y=\"-141.8\" font-family=\"Times New Roman,serif\" font-size=\"14.00\">X[1] &lt;= 2.0</text>\r\n",
       "<text text-anchor=\"middle\" x=\"168\" y=\"-126.8\" font-family=\"Times New Roman,serif\" font-size=\"14.00\">gini = 0.461</text>\r\n",
       "<text text-anchor=\"middle\" x=\"168\" y=\"-111.8\" font-family=\"Times New Roman,serif\" font-size=\"14.00\">samples = 144</text>\r\n",
       "<text text-anchor=\"middle\" x=\"168\" y=\"-96.8\" font-family=\"Times New Roman,serif\" font-size=\"14.00\">value = [52, 92]</text>\r\n",
       "</g>\r\n",
       "<!-- 1&#45;&gt;4 -->\r\n",
       "<g id=\"edge3\" class=\"edge\"><title>1&#45;&gt;4</title>\r\n",
       "<path fill=\"none\" stroke=\"black\" d=\"M166.649,-192.884C166.808,-184.778 166.981,-175.982 167.148,-167.472\"/>\r\n",
       "<polygon fill=\"black\" stroke=\"black\" points=\"170.65,-167.366 167.347,-157.299 163.652,-167.229 170.65,-167.366\"/>\r\n",
       "</g>\r\n",
       "<!-- 5 -->\r\n",
       "<g id=\"node5\" class=\"node\"><title>5</title>\r\n",
       "<polygon fill=\"none\" stroke=\"black\" points=\"157,-53 59,-53 59,-0 157,-0 157,-53\"/>\r\n",
       "<text text-anchor=\"middle\" x=\"108\" y=\"-37.8\" font-family=\"Times New Roman,serif\" font-size=\"14.00\">gini = 0.177</text>\r\n",
       "<text text-anchor=\"middle\" x=\"108\" y=\"-22.8\" font-family=\"Times New Roman,serif\" font-size=\"14.00\">samples = 51</text>\r\n",
       "<text text-anchor=\"middle\" x=\"108\" y=\"-7.8\" font-family=\"Times New Roman,serif\" font-size=\"14.00\">value = [5, 46]</text>\r\n",
       "</g>\r\n",
       "<!-- 4&#45;&gt;5 -->\r\n",
       "<g id=\"edge4\" class=\"edge\"><title>4&#45;&gt;5</title>\r\n",
       "<path fill=\"none\" stroke=\"black\" d=\"M147.015,-88.9485C141.439,-80.1664 135.405,-70.6629 129.787,-61.815\"/>\r\n",
       "<polygon fill=\"black\" stroke=\"black\" points=\"132.656,-59.8028 124.341,-53.2367 126.746,-63.5549 132.656,-59.8028\"/>\r\n",
       "</g>\r\n",
       "<!-- 6 -->\r\n",
       "<g id=\"node6\" class=\"node\"><title>6</title>\r\n",
       "<polygon fill=\"none\" stroke=\"black\" points=\"279,-53 175,-53 175,-0 279,-0 279,-53\"/>\r\n",
       "<text text-anchor=\"middle\" x=\"227\" y=\"-37.8\" font-family=\"Times New Roman,serif\" font-size=\"14.00\">gini = 0.5</text>\r\n",
       "<text text-anchor=\"middle\" x=\"227\" y=\"-22.8\" font-family=\"Times New Roman,serif\" font-size=\"14.00\">samples = 93</text>\r\n",
       "<text text-anchor=\"middle\" x=\"227\" y=\"-7.8\" font-family=\"Times New Roman,serif\" font-size=\"14.00\">value = [47, 46]</text>\r\n",
       "</g>\r\n",
       "<!-- 4&#45;&gt;6 -->\r\n",
       "<g id=\"edge5\" class=\"edge\"><title>4&#45;&gt;6</title>\r\n",
       "<path fill=\"none\" stroke=\"black\" d=\"M188.635,-88.9485C194.118,-80.1664 200.052,-70.6629 205.576,-61.815\"/>\r\n",
       "<polygon fill=\"black\" stroke=\"black\" points=\"208.604,-63.5728 210.932,-53.2367 202.667,-59.8656 208.604,-63.5728\"/>\r\n",
       "</g>\r\n",
       "<!-- 7 -->\r\n",
       "<g id=\"node8\" class=\"node\"><title>7</title>\r\n",
       "<polygon fill=\"none\" stroke=\"black\" points=\"345,-149.5 241,-149.5 241,-96.5 345,-96.5 345,-149.5\"/>\r\n",
       "<text text-anchor=\"middle\" x=\"293\" y=\"-134.3\" font-family=\"Times New Roman,serif\" font-size=\"14.00\">gini = 0.437</text>\r\n",
       "<text text-anchor=\"middle\" x=\"293\" y=\"-119.3\" font-family=\"Times New Roman,serif\" font-size=\"14.00\">samples = 90</text>\r\n",
       "<text text-anchor=\"middle\" x=\"293\" y=\"-104.3\" font-family=\"Times New Roman,serif\" font-size=\"14.00\">value = [61, 29]</text>\r\n",
       "</g>\r\n",
       "<!-- 2&#45;&gt;7 -->\r\n",
       "<g id=\"edge7\" class=\"edge\"><title>2&#45;&gt;7</title>\r\n",
       "<path fill=\"none\" stroke=\"black\" d=\"M294.351,-192.884C294.141,-182.216 293.909,-170.352 293.696,-159.519\"/>\r\n",
       "<polygon fill=\"black\" stroke=\"black\" points=\"297.196,-159.449 293.5,-149.52 290.197,-159.587 297.196,-159.449\"/>\r\n",
       "</g>\r\n",
       "<!-- 8 -->\r\n",
       "<g id=\"node9\" class=\"node\"><title>8</title>\r\n",
       "<polygon fill=\"none\" stroke=\"black\" points=\"474.5,-149.5 363.5,-149.5 363.5,-96.5 474.5,-96.5 474.5,-149.5\"/>\r\n",
       "<text text-anchor=\"middle\" x=\"419\" y=\"-134.3\" font-family=\"Times New Roman,serif\" font-size=\"14.00\">gini = 0.25</text>\r\n",
       "<text text-anchor=\"middle\" x=\"419\" y=\"-119.3\" font-family=\"Times New Roman,serif\" font-size=\"14.00\">samples = 321</text>\r\n",
       "<text text-anchor=\"middle\" x=\"419\" y=\"-104.3\" font-family=\"Times New Roman,serif\" font-size=\"14.00\">value = [274, 47]</text>\r\n",
       "</g>\r\n",
       "<!-- 2&#45;&gt;8 -->\r\n",
       "<g id=\"edge8\" class=\"edge\"><title>2&#45;&gt;8</title>\r\n",
       "<path fill=\"none\" stroke=\"black\" d=\"M335.259,-192.884C349.699,-181.006 365.94,-167.646 380.249,-155.876\"/>\r\n",
       "<polygon fill=\"black\" stroke=\"black\" points=\"382.476,-158.576 387.976,-149.52 378.029,-153.17 382.476,-158.576\"/>\r\n",
       "</g>\r\n",
       "</g>\r\n",
       "</svg>\r\n"
      ],
      "text/plain": [
       "<graphviz.files.Source at 0x22cfb782a60>"
      ]
     },
     "execution_count": 11,
     "metadata": {},
     "output_type": "execute_result"
    }
   ],
   "source": [
    "dot_data=tree.export_graphviz(dtree , out_file=None)\n",
    "graph=graphviz.Source(dot_data)\n",
    "graph.render(\"data\")\n",
    "graph"
   ]
  },
  {
   "cell_type": "markdown",
   "metadata": {},
   "source": [
    "Most females from first and second class died.\n",
    "\n",
    "Most males from second and third class survived."
   ]
  },
  {
   "cell_type": "markdown",
   "metadata": {},
   "source": [
    "# Random Forest prediction"
   ]
  },
  {
   "cell_type": "code",
   "execution_count": 15,
   "metadata": {},
   "outputs": [
    {
     "name": "stdout",
     "output_type": "stream",
     "text": [
      "Accuracy: 0.8171641791044776\n"
     ]
    }
   ],
   "source": [
    "clf=RandomForestClassifier(n_estimators=10) \n",
    "clf.fit(x_train, y_train) \n",
    "y_pred=clf.predict(x_test)  \n",
    "print(\"Accuracy:\", metrics.accuracy_score(y_test, y_pred)) "
   ]
  },
  {
   "cell_type": "code",
   "execution_count": 14,
   "metadata": {},
   "outputs": [
    {
     "name": "stdout",
     "output_type": "stream",
     "text": [
      "Accuracy: 0.7611940298507462\n"
     ]
    }
   ],
   "source": [
    "clf=RandomForestClassifier(n_estimators=5) \n",
    "clf.fit(x_train, y_train) \n",
    "y_pred=clf.predict(x_test)  \n",
    "print(\"Accuracy:\", metrics.accuracy_score(y_test, y_pred)) "
   ]
  }
 ],
 "metadata": {
  "kernelspec": {
   "display_name": "Python 3",
   "language": "python",
   "name": "python3"
  },
  "language_info": {
   "codemirror_mode": {
    "name": "ipython",
    "version": 3
   },
   "file_extension": ".py",
   "mimetype": "text/x-python",
   "name": "python",
   "nbconvert_exporter": "python",
   "pygments_lexer": "ipython3",
   "version": "3.8.5"
  }
 },
 "nbformat": 4,
 "nbformat_minor": 4
}
