{
 "cells": [
  {
   "cell_type": "code",
   "execution_count": 1,
   "metadata": {},
   "outputs": [],
   "source": [
    "import pandas as pd\n",
    "from sklearn.preprocessing import LabelEncoder\n",
    "import matplotlib.pyplot as plt\n",
    "import seaborn as sns\n",
    "from sklearn.preprocessing import StandardScaler\n",
    "from sklearn.model_selection import train_test_split\n",
    "from sklearn.neighbors import KNeighborsClassifier\n",
    "from sklearn.metrics import accuracy_score\n",
    "import csv\n",
    "import random\n",
    "import math\n",
    "import operator"
   ]
  },
  {
   "cell_type": "markdown",
   "metadata": {},
   "source": [
    "# Handle Data"
   ]
  },
  {
   "cell_type": "code",
   "execution_count": 2,
   "metadata": {},
   "outputs": [
    {
     "name": "stdout",
     "output_type": "stream",
     "text": [
      "4.9, 3.0, 1.4, 0.2, Iris-setosa\n",
      "4.7, 3.2, 1.3, 0.2, Iris-setosa\n",
      "4.6, 3.1, 1.5, 0.2, Iris-setosa\n",
      "5.0, 3.6, 1.4, 0.2, Iris-setosa\n",
      "5.4, 3.9, 1.7, 0.4, Iris-setosa\n",
      "4.6, 3.4, 1.4, 0.3, Iris-setosa\n",
      "5.0, 3.4, 1.5, 0.2, Iris-setosa\n",
      "4.4, 2.9, 1.4, 0.2, Iris-setosa\n",
      "4.9, 3.1, 1.5, 0.1, Iris-setosa\n",
      "5.4, 3.7, 1.5, 0.2, Iris-setosa\n",
      "4.8, 3.4, 1.6, 0.2, Iris-setosa\n",
      "4.8, 3.0, 1.4, 0.1, Iris-setosa\n",
      "4.3, 3.0, 1.1, 0.1, Iris-setosa\n",
      "5.8, 4.0, 1.2, 0.2, Iris-setosa\n",
      "5.7, 4.4, 1.5, 0.4, Iris-setosa\n",
      "5.4, 3.9, 1.3, 0.4, Iris-setosa\n",
      "5.1, 3.5, 1.4, 0.3, Iris-setosa\n",
      "5.7, 3.8, 1.7, 0.3, Iris-setosa\n",
      "5.1, 3.8, 1.5, 0.3, Iris-setosa\n",
      "5.4, 3.4, 1.7, 0.2, Iris-setosa\n",
      "5.1, 3.7, 1.5, 0.4, Iris-setosa\n",
      "4.6, 3.6, 1.0, 0.2, Iris-setosa\n",
      "5.1, 3.3, 1.7, 0.5, Iris-setosa\n",
      "4.8, 3.4, 1.9, 0.2, Iris-setosa\n",
      "5.0, 3.0, 1.6, 0.2, Iris-setosa\n",
      "5.0, 3.4, 1.6, 0.4, Iris-setosa\n",
      "5.2, 3.5, 1.5, 0.2, Iris-setosa\n",
      "5.2, 3.4, 1.4, 0.2, Iris-setosa\n",
      "4.7, 3.2, 1.6, 0.2, Iris-setosa\n",
      "4.8, 3.1, 1.6, 0.2, Iris-setosa\n",
      "5.4, 3.4, 1.5, 0.4, Iris-setosa\n",
      "5.2, 4.1, 1.5, 0.1, Iris-setosa\n",
      "5.5, 4.2, 1.4, 0.2, Iris-setosa\n",
      "4.9, 3.1, 1.5, 0.1, Iris-setosa\n",
      "5.0, 3.2, 1.2, 0.2, Iris-setosa\n",
      "5.5, 3.5, 1.3, 0.2, Iris-setosa\n",
      "4.9, 3.1, 1.5, 0.1, Iris-setosa\n",
      "4.4, 3.0, 1.3, 0.2, Iris-setosa\n",
      "5.1, 3.4, 1.5, 0.2, Iris-setosa\n",
      "5.0, 3.5, 1.3, 0.3, Iris-setosa\n",
      "4.5, 2.3, 1.3, 0.3, Iris-setosa\n",
      "4.4, 3.2, 1.3, 0.2, Iris-setosa\n",
      "5.0, 3.5, 1.6, 0.6, Iris-setosa\n",
      "5.1, 3.8, 1.9, 0.4, Iris-setosa\n",
      "4.8, 3.0, 1.4, 0.3, Iris-setosa\n",
      "5.1, 3.8, 1.6, 0.2, Iris-setosa\n",
      "4.6, 3.2, 1.4, 0.2, Iris-setosa\n",
      "5.3, 3.7, 1.5, 0.2, Iris-setosa\n",
      "5.0, 3.3, 1.4, 0.2, Iris-setosa\n",
      "7.0, 3.2, 4.7, 1.4, Iris-versicolor\n",
      "6.4, 3.2, 4.5, 1.5, Iris-versicolor\n",
      "6.9, 3.1, 4.9, 1.5, Iris-versicolor\n",
      "5.5, 2.3, 4.0, 1.3, Iris-versicolor\n",
      "6.5, 2.8, 4.6, 1.5, Iris-versicolor\n",
      "5.7, 2.8, 4.5, 1.3, Iris-versicolor\n",
      "6.3, 3.3, 4.7, 1.6, Iris-versicolor\n",
      "4.9, 2.4, 3.3, 1.0, Iris-versicolor\n",
      "6.6, 2.9, 4.6, 1.3, Iris-versicolor\n",
      "5.2, 2.7, 3.9, 1.4, Iris-versicolor\n",
      "5.0, 2.0, 3.5, 1.0, Iris-versicolor\n",
      "5.9, 3.0, 4.2, 1.5, Iris-versicolor\n",
      "6.0, 2.2, 4.0, 1.0, Iris-versicolor\n",
      "6.1, 2.9, 4.7, 1.4, Iris-versicolor\n",
      "5.6, 2.9, 3.6, 1.3, Iris-versicolor\n",
      "6.7, 3.1, 4.4, 1.4, Iris-versicolor\n",
      "5.6, 3.0, 4.5, 1.5, Iris-versicolor\n",
      "5.8, 2.7, 4.1, 1.0, Iris-versicolor\n",
      "6.2, 2.2, 4.5, 1.5, Iris-versicolor\n",
      "5.6, 2.5, 3.9, 1.1, Iris-versicolor\n",
      "5.9, 3.2, 4.8, 1.8, Iris-versicolor\n",
      "6.1, 2.8, 4.0, 1.3, Iris-versicolor\n",
      "6.3, 2.5, 4.9, 1.5, Iris-versicolor\n",
      "6.1, 2.8, 4.7, 1.2, Iris-versicolor\n",
      "6.4, 2.9, 4.3, 1.3, Iris-versicolor\n",
      "6.6, 3.0, 4.4, 1.4, Iris-versicolor\n",
      "6.8, 2.8, 4.8, 1.4, Iris-versicolor\n",
      "6.7, 3.0, 5.0, 1.7, Iris-versicolor\n",
      "6.0, 2.9, 4.5, 1.5, Iris-versicolor\n",
      "5.7, 2.6, 3.5, 1.0, Iris-versicolor\n",
      "5.5, 2.4, 3.8, 1.1, Iris-versicolor\n",
      "5.5, 2.4, 3.7, 1.0, Iris-versicolor\n",
      "5.8, 2.7, 3.9, 1.2, Iris-versicolor\n",
      "6.0, 2.7, 5.1, 1.6, Iris-versicolor\n",
      "5.4, 3.0, 4.5, 1.5, Iris-versicolor\n",
      "6.0, 3.4, 4.5, 1.6, Iris-versicolor\n",
      "6.7, 3.1, 4.7, 1.5, Iris-versicolor\n",
      "6.3, 2.3, 4.4, 1.3, Iris-versicolor\n",
      "5.6, 3.0, 4.1, 1.3, Iris-versicolor\n",
      "5.5, 2.5, 4.0, 1.3, Iris-versicolor\n",
      "5.5, 2.6, 4.4, 1.2, Iris-versicolor\n",
      "6.1, 3.0, 4.6, 1.4, Iris-versicolor\n",
      "5.8, 2.6, 4.0, 1.2, Iris-versicolor\n",
      "5.0, 2.3, 3.3, 1.0, Iris-versicolor\n",
      "5.6, 2.7, 4.2, 1.3, Iris-versicolor\n",
      "5.7, 3.0, 4.2, 1.2, Iris-versicolor\n",
      "5.7, 2.9, 4.2, 1.3, Iris-versicolor\n",
      "6.2, 2.9, 4.3, 1.3, Iris-versicolor\n",
      "5.1, 2.5, 3.0, 1.1, Iris-versicolor\n",
      "5.7, 2.8, 4.1, 1.3, Iris-versicolor\n",
      "6.3, 3.3, 6.0, 2.5, Iris-virginica\n",
      "5.8, 2.7, 5.1, 1.9, Iris-virginica\n",
      "7.1, 3.0, 5.9, 2.1, Iris-virginica\n",
      "6.3, 2.9, 5.6, 1.8, Iris-virginica\n",
      "6.5, 3.0, 5.8, 2.2, Iris-virginica\n",
      "7.6, 3.0, 6.6, 2.1, Iris-virginica\n",
      "4.9, 2.5, 4.5, 1.7, Iris-virginica\n",
      "7.3, 2.9, 6.3, 1.8, Iris-virginica\n",
      "6.7, 2.5, 5.8, 1.8, Iris-virginica\n",
      "7.2, 3.6, 6.1, 2.5, Iris-virginica\n",
      "6.5, 3.2, 5.1, 2.0, Iris-virginica\n",
      "6.4, 2.7, 5.3, 1.9, Iris-virginica\n",
      "6.8, 3.0, 5.5, 2.1, Iris-virginica\n",
      "5.7, 2.5, 5.0, 2.0, Iris-virginica\n",
      "5.8, 2.8, 5.1, 2.4, Iris-virginica\n",
      "6.4, 3.2, 5.3, 2.3, Iris-virginica\n",
      "6.5, 3.0, 5.5, 1.8, Iris-virginica\n",
      "7.7, 3.8, 6.7, 2.2, Iris-virginica\n",
      "7.7, 2.6, 6.9, 2.3, Iris-virginica\n",
      "6.0, 2.2, 5.0, 1.5, Iris-virginica\n",
      "6.9, 3.2, 5.7, 2.3, Iris-virginica\n",
      "5.6, 2.8, 4.9, 2.0, Iris-virginica\n",
      "7.7, 2.8, 6.7, 2.0, Iris-virginica\n",
      "6.3, 2.7, 4.9, 1.8, Iris-virginica\n",
      "6.7, 3.3, 5.7, 2.1, Iris-virginica\n",
      "7.2, 3.2, 6.0, 1.8, Iris-virginica\n",
      "6.2, 2.8, 4.8, 1.8, Iris-virginica\n",
      "6.1, 3.0, 4.9, 1.8, Iris-virginica\n",
      "6.4, 2.8, 5.6, 2.1, Iris-virginica\n",
      "7.2, 3.0, 5.8, 1.6, Iris-virginica\n",
      "7.4, 2.8, 6.1, 1.9, Iris-virginica\n",
      "7.9, 3.8, 6.4, 2.0, Iris-virginica\n",
      "6.4, 2.8, 5.6, 2.2, Iris-virginica\n",
      "6.3, 2.8, 5.1, 1.5, Iris-virginica\n",
      "6.1, 2.6, 5.6, 1.4, Iris-virginica\n",
      "7.7, 3.0, 6.1, 2.3, Iris-virginica\n",
      "6.3, 3.4, 5.6, 2.4, Iris-virginica\n",
      "6.4, 3.1, 5.5, 1.8, Iris-virginica\n",
      "6.0, 3.0, 4.8, 1.8, Iris-virginica\n",
      "6.9, 3.1, 5.4, 2.1, Iris-virginica\n",
      "6.7, 3.1, 5.6, 2.4, Iris-virginica\n",
      "6.9, 3.1, 5.1, 2.3, Iris-virginica\n",
      "5.8, 2.7, 5.1, 1.9, Iris-virginica\n",
      "6.8, 3.2, 5.9, 2.3, Iris-virginica\n",
      "6.7, 3.3, 5.7, 2.5, Iris-virginica\n",
      "6.7, 3.0, 5.2, 2.3, Iris-virginica\n",
      "6.3, 2.5, 5.0, 1.9, Iris-virginica\n",
      "6.5, 3.0, 5.2, 2.0, Iris-virginica\n",
      "6.2, 3.4, 5.4, 2.3, Iris-virginica\n",
      "5.9, 3.0, 5.1, 1.8, Iris-virginica\n"
     ]
    }
   ],
   "source": [
    "with open('iris.data.txt', 'r') as csvfile:\n",
    "    lines = csv.reader(csvfile)\n",
    "    row = next(lines)\n",
    "    for row in lines :\n",
    "        print (', '.join(row))\n",
    "        "
   ]
  },
  {
   "cell_type": "code",
   "execution_count": 3,
   "metadata": {},
   "outputs": [],
   "source": [
    "\n",
    "def loadDataset(filename, split, trainingSet=[] , testSet=[]):\n",
    "    with open(filename, 'r') as csvfile:\n",
    "        lines = csv.reader(csvfile)\n",
    "        dataset = list(lines)\n",
    "        print(len(dataset))\n",
    "        for x in range(len(dataset)):\n",
    "            for y in range(4):\n",
    "                dataset[x][y] = float(dataset[x][y])\n",
    "            if random.random() < split:\n",
    "                trainingSet.append(dataset[x])\n",
    "                \n",
    "            else:\n",
    "                testSet.append(dataset[x])\n",
    "        #Converting categorical to numerical so we can use knn\n",
    "            switcher ={   \n",
    "            'Iris-setosa':0,\n",
    "             'Iris-versicolor':1,\n",
    "            'Iris-virginica':2    \n",
    "       \n",
    "\n",
    "    }\n",
    "            dataset[x][4]=switcher.get(dataset[x][4],\"Invalid day \") \n",
    "                 "
   ]
  },
  {
   "cell_type": "code",
   "execution_count": 4,
   "metadata": {},
   "outputs": [
    {
     "name": "stdout",
     "output_type": "stream",
     "text": [
      "150\n",
      "Train: 96\n",
      "Test: 54\n"
     ]
    }
   ],
   "source": [
    "trainingSet=[]\n",
    "\n",
    "testSet=[]\n",
    "\n",
    "loadDataset('iris.data.txt', 0.66, trainingSet, testSet)\n",
    "\n",
    "print ('Train: ' + repr(len(trainingSet)))\n",
    "\n",
    "print ('Test: ' + repr(len(testSet)) )\n"
   ]
  },
  {
   "cell_type": "markdown",
   "metadata": {},
   "source": [
    "# Similarity"
   ]
  },
  {
   "cell_type": "code",
   "execution_count": 5,
   "metadata": {},
   "outputs": [],
   "source": [
    "def euclideanDistance(instance1, instance2, length): \n",
    "    tot=0\n",
    "    for i in range(length):\n",
    "        tot=tot+math.pow(instance1[i]-instance2[i],2)\n",
    "    return math.sqrt(tot)"
   ]
  },
  {
   "cell_type": "code",
   "execution_count": 6,
   "metadata": {},
   "outputs": [
    {
     "name": "stdout",
     "output_type": "stream",
     "text": [
      "Distance: 0.5385164807134502\n",
      "Distance: 0.264575131106459\n",
      "Distance: 0.2999999999999997\n",
      "Distance: 0.529150262212918\n",
      "Distance: 1.1618950038622253\n",
      "Distance: 0.4242640687119283\n",
      "Distance: 0.3605551275463991\n",
      "Distance: 0.479583152331272\n",
      "Distance: 1.1180339887498947\n",
      "Distance: 1.3601470508735443\n",
      "Distance: 1.2247448713915896\n",
      "Distance: 1.0535653752852738\n",
      "Distance: 0.5477225575051661\n",
      "Distance: 0.5477225575051664\n",
      "Distance: 0.953939201416946\n",
      "Distance: 0.19999999999999993\n",
      "Distance: 0.30000000000000004\n",
      "Distance: 1.3114877048604003\n",
      "Distance: 1.058300524425836\n",
      "Distance: 0.3464101615137755\n",
      "Distance: 3.6359317925395684\n",
      "Distance: 3.988734135035826\n",
      "Distance: 4.11703777004778\n",
      "Distance: 3.023243291566195\n",
      "Distance: 2.2825424421026654\n",
      "Distance: 3.209361307176243\n",
      "Distance: 2.9782545223670858\n",
      "Distance: 3.854867053479277\n",
      "Distance: 3.749666651850535\n",
      "Distance: 3.0708305065568178\n",
      "Distance: 0.5385164807134506\n",
      "Distance: 0.31622776601683794\n",
      "Distance: 0.4358898943540673\n",
      "Distance: 0.3741657386773946\n",
      "Distance: 0.4582575694955845\n",
      "Distance: 1.9104973174542794\n",
      "Distance: 1.431782106327635\n",
      "Distance: 3.159113799786263\n",
      "Distance: 1.8814887722226774\n",
      "Distance: 1.2767145334803707\n",
      "Distance: 1.1180339887498947\n",
      "Distance: 2.1283796653792764\n",
      "Distance: 0.43588989435406705\n",
      "Distance: 0.9643650760992956\n",
      "Distance: 1.5297058540778354\n",
      "Distance: 2.2649503305812257\n",
      "Distance: 1.3674794331177342\n",
      "Distance: 1.791647286716891\n",
      "Distance: 1.9313207915827961\n",
      "Distance: 1.8547236990991411\n",
      "Distance: 0.4690415759823427\n",
      "Distance: 1.8520259177452136\n",
      "Distance: 1.3228756555322951\n",
      "Distance: 1.2884098726725126\n"
     ]
    }
   ],
   "source": [
    "instance1=trainingSet\n",
    "instance2=testSet\n",
    "\n",
    "for i in range (len(instance2)):\n",
    "    distance = euclideanDistance(instance1[i], instance2[i],4)\n",
    "    print ('Distance: ' + repr(distance))"
   ]
  },
  {
   "cell_type": "markdown",
   "metadata": {},
   "source": [
    "# Neighbors\n"
   ]
  },
  {
   "cell_type": "code",
   "execution_count": 7,
   "metadata": {},
   "outputs": [],
   "source": [
    "def getNeighbors(trainingSet, testInstance, k):\n",
    "    distances = []\n",
    "    length = len(testInstance)-1\n",
    "    for x in range(len(trainingSet)):\n",
    "        dist = euclideanDistance(testInstance, trainingSet[x], length)\n",
    "        distances.append((trainingSet[x], dist))\n",
    "    distances.sort(key=operator.itemgetter(1))\n",
    "    neighbors = []\n",
    "    for x in range(k):\n",
    "        neighbors.append(distances[x][0])\n",
    "    return neighbors"
   ]
  },
  {
   "cell_type": "markdown",
   "metadata": {},
   "source": [
    "# Response"
   ]
  },
  {
   "cell_type": "code",
   "execution_count": 8,
   "metadata": {},
   "outputs": [],
   "source": [
    "# From the given 5 neighbors we will let the value to vote fot the most appropriate one\n",
    "def getResponse(neighbors):\n",
    "    classVotes = {}\n",
    "    for x in range(len(neighbors)):\n",
    "        response = neighbors[x][len(neighbors[0])-1] \n",
    "        if response in classVotes:\n",
    "             classVotes[response]+=1\n",
    "            \n",
    "        else: \n",
    "            classVotes[response]=1\n",
    "            \n",
    "    \n",
    "    sortedVotes = sorted(classVotes.items(), key=operator.itemgetter(1), reverse=True)\n",
    "    return sortedVotes[0][0]"
   ]
  },
  {
   "cell_type": "code",
   "execution_count": 9,
   "metadata": {
    "scrolled": true
   },
   "outputs": [],
   "source": [
    "# We are selecting the 5 nearest neighbors for each test value\n",
    "response=[]\n",
    "k=5\n",
    "for i in range(len(testSet)):\n",
    "    neighbors =getNeighbors(trainingSet,testSet[i], k)\n",
    "    response.append(getResponse(neighbors) )"
   ]
  },
  {
   "cell_type": "markdown",
   "metadata": {},
   "source": [
    "# Accuracy"
   ]
  },
  {
   "cell_type": "code",
   "execution_count": 10,
   "metadata": {},
   "outputs": [],
   "source": [
    "def getAccuracy(testSet, predictions):\n",
    "    correct=0\n",
    "   \n",
    "    for i in range(len(predictions)):\n",
    "        \n",
    "        if(predictions[i]==testSet[i][4]):\n",
    "            correct+=1\n",
    "           \n",
    "    return (correct/float(len(testSet))) * 100.0\n"
   ]
  },
  {
   "cell_type": "code",
   "execution_count": 11,
   "metadata": {},
   "outputs": [
    {
     "data": {
      "text/plain": [
       "98.14814814814815"
      ]
     },
     "execution_count": 11,
     "metadata": {},
     "output_type": "execute_result"
    }
   ],
   "source": [
    "getAccuracy(testSet,response)"
   ]
  },
  {
   "cell_type": "markdown",
   "metadata": {},
   "source": [
    "# Manhattan distance "
   ]
  },
  {
   "cell_type": "code",
   "execution_count": 12,
   "metadata": {},
   "outputs": [],
   "source": [
    "def manhattanDistance(instance1, instance2, length): \n",
    "    tot=0\n",
    "    for i in range(length):\n",
    "        tot=tot+abs(instance1[i]-instance2[i])\n",
    "    return tot"
   ]
  },
  {
   "cell_type": "code",
   "execution_count": 13,
   "metadata": {},
   "outputs": [
    {
     "name": "stdout",
     "output_type": "stream",
     "text": [
      "Distance: 0.6999999999999993\n",
      "Distance: 0.5000000000000001\n",
      "Distance: 0.49999999999999956\n",
      "Distance: 0.7999999999999997\n",
      "Distance: 2.1000000000000005\n",
      "Distance: 0.5999999999999995\n",
      "Distance: 0.5000000000000002\n",
      "Distance: 0.9000000000000001\n",
      "Distance: 2.0999999999999996\n",
      "Distance: 2.3\n",
      "Distance: 1.8000000000000007\n",
      "Distance: 1.9\n",
      "Distance: 0.9999999999999999\n",
      "Distance: 1.0000000000000004\n",
      "Distance: 1.3000000000000005\n",
      "Distance: 0.3999999999999998\n",
      "Distance: 0.5000000000000001\n",
      "Distance: 2.0\n",
      "Distance: 1.5999999999999996\n",
      "Distance: 0.6000000000000004\n",
      "Distance: 6.0\n",
      "Distance: 6.3\n",
      "Distance: 6.699999999999999\n",
      "Distance: 5.3999999999999995\n",
      "Distance: 3.9\n",
      "Distance: 5.800000000000001\n",
      "Distance: 4.699999999999999\n",
      "Distance: 7.000000000000001\n",
      "Distance: 6.0\n",
      "Distance: 5.299999999999999\n",
      "Distance: 0.9000000000000004\n",
      "Distance: 0.5999999999999999\n",
      "Distance: 0.7\n",
      "Distance: 0.600000000000001\n",
      "Distance: 0.7000000000000011\n",
      "Distance: 3.499999999999999\n",
      "Distance: 2.2999999999999994\n",
      "Distance: 6.0\n",
      "Distance: 3.1999999999999993\n",
      "Distance: 2.3000000000000003\n",
      "Distance: 1.9\n",
      "Distance: 4.1000000000000005\n",
      "Distance: 0.6999999999999993\n",
      "Distance: 1.5000000000000002\n",
      "Distance: 2.2\n",
      "Distance: 4.300000000000001\n",
      "Distance: 2.3000000000000003\n",
      "Distance: 2.899999999999999\n",
      "Distance: 2.8999999999999995\n",
      "Distance: 3.2000000000000006\n",
      "Distance: 0.7999999999999996\n",
      "Distance: 3.1000000000000005\n",
      "Distance: 2.4999999999999996\n",
      "Distance: 2.4000000000000004\n"
     ]
    }
   ],
   "source": [
    "instance1=trainingSet\n",
    "instance2=testSet\n",
    "\n",
    "for i in range (len(instance2)):\n",
    "    distance = manhattanDistance(instance1[i], instance2[i],4)\n",
    "    print ('Distance: ' + repr(distance))"
   ]
  },
  {
   "cell_type": "code",
   "execution_count": 14,
   "metadata": {},
   "outputs": [],
   "source": [
    "def getNeighbors(trainingSet, testInstance, k):\n",
    "    distances = []\n",
    "    length = len(testInstance)-1\n",
    "    for x in range(len(trainingSet)):\n",
    "        dist = manhattanDistance(testInstance, trainingSet[x],4)\n",
    "        distances.append((trainingSet[x], dist))\n",
    "    distances.sort(key=operator.itemgetter(1))\n",
    "    neighbors = []\n",
    "    for x in range(k):\n",
    "        neighbors.append(distances[x][0])\n",
    "    return neighbors"
   ]
  },
  {
   "cell_type": "code",
   "execution_count": 15,
   "metadata": {},
   "outputs": [],
   "source": [
    "# We are selecting the 5 nearest neighbors for each test value\n",
    "response=[]\n",
    "k=5\n",
    "for i in range(len(testSet)):\n",
    "    neighbors =getNeighbors(trainingSet,testSet[i], k)\n",
    "    response.append(getResponse(neighbors) )\n"
   ]
  },
  {
   "cell_type": "code",
   "execution_count": 16,
   "metadata": {},
   "outputs": [
    {
     "data": {
      "text/plain": [
       "90.74074074074075"
      ]
     },
     "execution_count": 16,
     "metadata": {},
     "output_type": "execute_result"
    }
   ],
   "source": [
    "getAccuracy(testSet,response)"
   ]
  },
  {
   "cell_type": "markdown",
   "metadata": {},
   "source": [
    "# minkowski distance"
   ]
  },
  {
   "cell_type": "code",
   "execution_count": 17,
   "metadata": {},
   "outputs": [],
   "source": [
    "\n",
    "from math import *\n",
    "from decimal import Decimal \n",
    "\n",
    "def p_root(value, root): \n",
    "      \n",
    "    root_value = 1 / float(root) \n",
    "    return round (Decimal(value) **\n",
    "             Decimal(root_value), 3) \n",
    "  \n",
    "def minkowski_distance(x, y, p_value): \n",
    "      \n",
    "    # pass the p_root function to calculate \n",
    "    # all the value of vector parallely  \n",
    "    return (p_root(sum(pow(abs(a-b), p_value) \n",
    "            for a, b in zip(x, y)), p_value)) "
   ]
  },
  {
   "cell_type": "code",
   "execution_count": 18,
   "metadata": {},
   "outputs": [
    {
     "name": "stdout",
     "output_type": "stream",
     "text": [
      "Distance: Decimal('0.503')\n",
      "Distance: Decimal('0.209')\n",
      "Distance: Decimal('0.240')\n",
      "Distance: Decimal('0.501')\n",
      "Distance: Decimal('0.946')\n",
      "Distance: Decimal('0.401')\n",
      "Distance: Decimal('0.314')\n",
      "Distance: Decimal('0.366')\n",
      "Distance: Decimal('0.870')\n",
      "Distance: Decimal('1.082')\n",
      "Distance: Decimal('1.055')\n",
      "Distance: Decimal('0.837')\n",
      "Distance: Decimal('0.434')\n",
      "Distance: Decimal('0.434')\n",
      "Distance: Decimal('0.903')\n",
      "Distance: Decimal('0.141')\n",
      "Distance: Decimal('0.240')\n",
      "Distance: Decimal('1.143')\n",
      "Distance: Decimal('1.001')\n",
      "Distance: Decimal('0.303')\n",
      "Distance: Decimal('3.088')\n",
      "Distance: Decimal('3.544')\n",
      "Distance: Decimal('3.467')\n",
      "Distance: Decimal('2.564')\n",
      "Distance: Decimal('2.045')\n",
      "Distance: Decimal('2.630')\n",
      "Distance: Decimal('2.728')\n",
      "Distance: Decimal('3.192')\n",
      "Distance: Decimal('3.353')\n",
      "Distance: Decimal('2.655')\n",
      "Distance: Decimal('0.433')\n",
      "Distance: Decimal('0.241')\n",
      "Distance: Decimal('0.357')\n",
      "Distance: Decimal('0.315')\n",
      "Distance: Decimal('0.406')\n",
      "Distance: Decimal('1.502')\n",
      "Distance: Decimal('1.344')\n",
      "Distance: Decimal('2.468')\n",
      "Distance: Decimal('1.684')\n",
      "Distance: Decimal('1.172')\n",
      "Distance: Decimal('1.157')\n",
      "Distance: Decimal('1.658')\n",
      "Distance: Decimal('1.004')\n",
      "Distance: Decimal('1.102')\n",
      "Distance: Decimal('1.437')\n",
      "Distance: Decimal('1.785')\n",
      "Distance: Decimal('1.285')\n",
      "Distance: Decimal('1.668')\n",
      "Distance: Decimal('1.847')\n",
      "Distance: Decimal('1.673')\n",
      "Distance: Decimal('1.004')\n",
      "Distance: Decimal('1.618')\n",
      "Distance: Decimal('1.194')\n",
      "Distance: Decimal('1.173')\n"
     ]
    }
   ],
   "source": [
    "instance1=trainingSet\n",
    "instance2=testSet\n",
    "\n",
    "for i in range (len(instance2)):\n",
    "    distance=minkowski_distance(instance1[i], instance2[i], 4)\n",
    "\n",
    "    print ('Distance: ' + repr(distance))"
   ]
  },
  {
   "cell_type": "code",
   "execution_count": 19,
   "metadata": {},
   "outputs": [],
   "source": [
    "def getNeighbors(trainingSet, testInstance, k):\n",
    "    distances = []\n",
    "    length = len(testInstance)-1\n",
    "    for x in range(len(trainingSet)):\n",
    "        dist = minkowski_distance(testInstance, trainingSet[x], length)\n",
    "        distances.append((trainingSet[x], dist))\n",
    "    distances.sort(key=operator.itemgetter(1))\n",
    "    neighbors = []\n",
    "    for x in range(k):\n",
    "        neighbors.append(distances[x][0])\n",
    "    return neighbors"
   ]
  },
  {
   "cell_type": "code",
   "execution_count": 20,
   "metadata": {},
   "outputs": [],
   "source": [
    "response=[]\n",
    "k=5\n",
    "for i in range(len(testSet)):\n",
    "    neighbors =getNeighbors(trainingSet,testSet[i], k)\n",
    "    response.append(getResponse(neighbors) )"
   ]
  },
  {
   "cell_type": "code",
   "execution_count": 21,
   "metadata": {},
   "outputs": [
    {
     "data": {
      "text/plain": [
       "100.0"
      ]
     },
     "execution_count": 21,
     "metadata": {},
     "output_type": "execute_result"
    }
   ],
   "source": [
    "getAccuracy(testSet,response)"
   ]
  },
  {
   "cell_type": "code",
   "execution_count": null,
   "metadata": {},
   "outputs": [],
   "source": []
  }
 ],
 "metadata": {
  "kernelspec": {
   "display_name": "Python 3",
   "language": "python",
   "name": "python3"
  },
  "language_info": {
   "codemirror_mode": {
    "name": "ipython",
    "version": 3
   },
   "file_extension": ".py",
   "mimetype": "text/x-python",
   "name": "python",
   "nbconvert_exporter": "python",
   "pygments_lexer": "ipython3",
   "version": "3.8.5"
  }
 },
 "nbformat": 4,
 "nbformat_minor": 4
}
